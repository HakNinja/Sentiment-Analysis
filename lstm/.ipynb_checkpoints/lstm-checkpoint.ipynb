{
 "cells": [
  {
   "cell_type": "code",
   "execution_count": null,
   "id": "29c4e691",
   "metadata": {},
   "outputs": [],
   "source": [
    "import tensorflow as tf\n",
    "from tensorflow.keras.preprocessing.text import Tokenizer\n",
    "from tensorflow.keras.preprocessing.sequence import pad_sequences\n",
    "from tensorflow.keras.models import Sequential\n",
    "from tensorflow.keras.layers import Embedding, LSTM, Dense\n",
    "\n",
    "# Sample data\n",
    "positive_reviews = [\"I love this product!\", \"Great service!\", \"Amazing experience.\"]\n",
    "negative_reviews = [\"Terrible product!\", \"Poor service.\", \"Disappointing experience.\"]\n",
    "\n",
    "# Label positive as 1 and negative as 0\n",
    "labels = [1, 1, 1, 0, 0, 0]\n",
    "\n",
    "# Combine positive and negative reviews\n",
    "reviews = positive_reviews + negative_reviews\n",
    "\n",
    "# Tokenize the text\n",
    "tokenizer = Tokenizer()\n",
    "tokenizer.fit_on_texts(reviews)\n",
    "total_words = len(tokenizer.word_index) + 1\n",
    "\n",
    "# Convert text to sequences\n",
    "sequences = tokenizer.texts_to_sequences(reviews)\n",
    "\n",
    "# Pad sequences for consistent input size\n",
    "padded_sequences = pad_sequences(sequences)\n",
    "\n",
    "# Create LSTM model\n",
    "model = Sequential()\n",
    "model.add(Embedding(total_words, 16, input_length=len(padded_sequences[0])))\n",
    "model.add(LSTM(100))\n",
    "model.add(Dense(1, activation='sigmoid'))\n",
    "\n",
    "# Compile the model\n",
    "model.compile(optimizer='adam', loss='binary_crossentropy', metrics=['accuracy'])\n",
    "\n",
    "# Train the model\n",
    "model.fit(padded_sequences, labels, epochs=10)\n",
    "\n",
    "# Test the model with new data\n",
    "test_review = [\"I dislike this product.\"]\n",
    "test_sequence = tokenizer.texts_to_sequences(test_review)\n",
    "test_padded = pad_sequences(test_sequence, maxlen=len(padded_sequences[0]))\n",
    "result = model.predict(test_padded)\n",
    "\n",
    "# Output the result\n",
    "if result[0] > 0.5:\n",
    "    print(\"Positive sentiment\")\n",
    "else:\n",
    "    print(\"Negative sentiment\")\n",
    "\n"
   ]
  }
 ],
 "metadata": {
  "kernelspec": {
   "display_name": "Python 3 (ipykernel)",
   "language": "python",
   "name": "python3"
  },
  "language_info": {
   "codemirror_mode": {
    "name": "ipython",
    "version": 3
   },
   "file_extension": ".py",
   "mimetype": "text/x-python",
   "name": "python",
   "nbconvert_exporter": "python",
   "pygments_lexer": "ipython3",
   "version": "3.11.5"
  }
 },
 "nbformat": 4,
 "nbformat_minor": 5
}
