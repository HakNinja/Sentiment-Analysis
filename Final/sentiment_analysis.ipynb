{
 "cells": [
  {
   "cell_type": "code",
   "execution_count": 1,
   "id": "6743865b",
   "metadata": {
    "scrolled": true
   },
   "outputs": [
    {
     "name": "stderr",
     "output_type": "stream",
     "text": [
      "2024-01-04 14:51:17.870422: I tensorflow/core/platform/cpu_feature_guard.cc:182] This TensorFlow binary is optimized to use available CPU instructions in performance-critical operations.\n",
      "To enable the following instructions: SSE4.1 SSE4.2 AVX AVX2 FMA, in other operations, rebuild TensorFlow with the appropriate compiler flags.\n"
     ]
    }
   ],
   "source": [
    "import pandas as pd\n",
    "import nltk\n",
    "import re\n",
    "import spacy\n",
    "\n",
    "# from tabulate import tabulate\n",
    "\n",
    "# nltk.download('stopwords')\n",
    "from nltk.corpus import stopwords\n",
    "from nltk.stem.porter import PorterStemmer\n",
    "from sklearn.feature_extraction.text import CountVectorizer\n",
    "from sklearn.model_selection import train_test_split\n",
    "from sklearn.naive_bayes import MultinomialNB\n",
    "from sklearn.naive_bayes import BernoulliNB\n",
    "from sklearn.linear_model import LogisticRegression\n",
    "from sklearn.metrics import confusion_matrix\n",
    "from sklearn.metrics import accuracy_score\n",
    "from sklearn.metrics import precision_score\n",
    "from sklearn.metrics import recall_score\n",
    "eng = spacy.load('en_core_web_lg')"
   ]
  },
  {
   "cell_type": "code",
   "execution_count": 2,
   "id": "f8e115dd",
   "metadata": {},
   "outputs": [
    {
     "data": {
      "text/html": [
       "<div>\n",
       "<style scoped>\n",
       "    .dataframe tbody tr th:only-of-type {\n",
       "        vertical-align: middle;\n",
       "    }\n",
       "\n",
       "    .dataframe tbody tr th {\n",
       "        vertical-align: top;\n",
       "    }\n",
       "\n",
       "    .dataframe thead th {\n",
       "        text-align: right;\n",
       "    }\n",
       "</style>\n",
       "<table border=\"1\" class=\"dataframe\">\n",
       "  <thead>\n",
       "    <tr style=\"text-align: right;\">\n",
       "      <th></th>\n",
       "      <th>Review</th>\n",
       "      <th>Liked</th>\n",
       "    </tr>\n",
       "  </thead>\n",
       "  <tbody>\n",
       "    <tr>\n",
       "      <th>0</th>\n",
       "      <td>Wow... Loved this place.</td>\n",
       "      <td>1</td>\n",
       "    </tr>\n",
       "    <tr>\n",
       "      <th>1</th>\n",
       "      <td>Crust is not good.</td>\n",
       "      <td>0</td>\n",
       "    </tr>\n",
       "    <tr>\n",
       "      <th>2</th>\n",
       "      <td>Not tasty and the texture was just nasty.</td>\n",
       "      <td>0</td>\n",
       "    </tr>\n",
       "    <tr>\n",
       "      <th>3</th>\n",
       "      <td>Stopped by during the late May bank holiday of...</td>\n",
       "      <td>1</td>\n",
       "    </tr>\n",
       "    <tr>\n",
       "      <th>4</th>\n",
       "      <td>The selection on the menu was great and so wer...</td>\n",
       "      <td>1</td>\n",
       "    </tr>\n",
       "  </tbody>\n",
       "</table>\n",
       "</div>"
      ],
      "text/plain": [
       "                                              Review  Liked\n",
       "0                           Wow... Loved this place.      1\n",
       "1                                 Crust is not good.      0\n",
       "2          Not tasty and the texture was just nasty.      0\n",
       "3  Stopped by during the late May bank holiday of...      1\n",
       "4  The selection on the menu was great and so wer...      1"
      ]
     },
     "execution_count": 2,
     "metadata": {},
     "output_type": "execute_result"
    }
   ],
   "source": [
    "ds = pd.read_csv('Restaurant_Reviews.tsv',delimiter='\\t')\n",
    "ds.head()"
   ]
  },
  {
   "cell_type": "code",
   "execution_count": 3,
   "id": "04937731",
   "metadata": {},
   "outputs": [
    {
     "name": "stdout",
     "output_type": "stream",
     "text": [
      "['wow love place', 'crust not good', 'not tasti textur nasti', 'stop late may bank holiday rick steve recommend love', 'select menu great price', 'get angri want damn pho', 'honeslti tast fresh', 'potato like rubber could tell made ahead time kept warmer', 'fri great', 'great touch', 'servic prompt', 'would not go back', 'cashier care ever say still end wayyy overpr', 'tri cape cod ravoli chicken cranberri mmmm', 'disgust pretti sure human hair', 'shock sign indic cash', 'highli recommend', 'waitress littl slow servic', 'place not worth time let alon vega', 'not like', 'burritto blah', 'food amaz', 'servic also cute', 'could care less interior beauti', 'perform', 'right red velvet cake ohhh stuff good', 'never brought salad ask', 'hole wall great mexican street taco friendli staff', 'took hour get food tabl restaur food luke warm sever run around like total overwhelm', 'worst salmon sashimi', 'also combo like burger fri beer decent deal', 'like final blow', 'found place accid could not happier', 'seem like good quick place grab bite familiar pub food favor look elsewher', 'overal like place lot', 'redeem qualiti restaur inexpens', 'ampl portion good price', 'poor servic waiter made feel like stupid everi time came tabl', 'first visit hiro delight', 'servic suck', 'shrimp tender moist', 'not deal good enough would drag establish', 'hard judg whether side good gross melt styrofoam want eat fear get sick', 'posit note server attent provid great servic', 'frozen puck disgust worst peopl behind regist', 'thing like prime rib dessert section', 'bad food damn gener', 'burger good beef cook right', 'want sandwich go firehous', 'side greek salad greek dress tasti pita hummu refresh', 'order duck rare pink tender insid nice char outsid', 'came run us realiz husband left sunglass tabl', 'chow mein good', 'horribl attitud toward custom talk one custom enjoy food', 'portion huge', 'love friendli server great food wonder imagin menu', 'heart attack grill downtown vega absolut flat line excus restaur', 'not much seafood like string pasta bottom', 'salad right amount sauc not power scallop perfectli cook', 'rip banana not rip petrifi tasteless', 'least think refil water struggl wave minut', 'place receiv star appet', 'cocktail handmad delici', 'definit go back', 'glad found place', 'great food servic huge portion give militari discount', 'alway great time do gringo', 'updat went back second time still amaz', 'got food appar never heard salt batter fish chewi', 'great way finish great', 'deal includ tast drink jeff went beyond expect', 'realli realli good rice time', 'servic meh', 'took min get milkshak noth chocol milk', 'guess known place would suck insid excalibur use common sens', 'scallop dish quit appal valu well', 'time bad custom servic', 'sweet potato fri good season well', 'today second time lunch buffet pretti good', 'much good food vega feel cheat wast eat opportun go rice compani', 'come like experienc underwhelm relationship parti wait person ask break', 'walk place smell like old greas trap other eat', 'turkey roast beef bland', 'place', 'pan cake everyon rave tast like sugari disast tailor palat six year old', 'love pho spring roll oh yummi tri', 'poor batter meat ratio made chicken tender unsatisfi', 'say food amaz', 'omelet die', 'everyth fresh delici', 'summari larg disappoint dine experi', 'like realli sexi parti mouth outrag flirt hottest person parti', 'never hard rock casino never ever step forward', 'best breakfast buffet', 'say bye bye tip ladi', 'never go', 'back', 'food arriv quickli', 'not good', 'side cafe serv realli good food', 'server fantast found wife love roast garlic bone marrow ad extra meal anoth marrow go', 'good thing waiter help kept bloddi mari come', 'best buffet town price cannot beat', 'love mussel cook wine reduct duck tender potato dish delici', 'one better buffet', 'went tigerlilli fantast afternoon', 'food delici bartend attent person got great deal', 'ambienc wonder music play', 'go back next trip', 'sooooo good', 'real sushi lover let honest yama not good', 'least min pass us order food arriv busi', 'realli fantast thai restaur definit worth visit', 'nice spici tender', 'good price', 'check', 'pretti gross', 'better atmospher', 'kind hard mess steak', 'although much like look sound place actual experi bit disappoint', 'know place manag serv blandest food ever eaten prepar indian cuisin', 'worst servic boot least worri', 'servic fine waitress friendli', 'guy steak steak love son steak best worst place said best steak ever eaten', 'thought ventur away get good sushi place realli hit spot night', 'host staff lack better word bitch', 'bland not like place number reason want wast time bad review leav', 'phenomen food servic ambianc', 'return', 'definit worth ventur strip pork belli return next time vega', 'place way overpr mediocr food', 'penn vodka excel', 'good select food includ massiv meatloaf sandwich crispi chicken wrap delish tuna melt tasti burger', 'manag rude', 'delici nyc bagel good select cream chees real lox caper even', 'great subway fact good come everi subway not meet expect', 'serious solid breakfast', 'one best bar food vega', 'extrem rude realli mani restaur would love dine weekend vega', 'drink never empti made realli great menu suggest', '', 'waiter help friendli rare check us', 'husband ate lunch disappoint food servic', 'red curri much bamboo shoot tasti', 'nice blanket moz top feel like done cover subpar food', 'bathroom clean place well decor', 'menu alway chang food qualiti go servic extrem slow', 'servic littl slow consid serv peopl server food come slow pace', 'give thumb', 'watch waiter pay lot attent tabl ignor us', 'fianc came middl day greet seat right away', 'great restaur mandalay bay', 'wait forti five minut vain', 'crostini came salad stale', 'highlight great qualiti nigiri', 'staff friendli joint alway clean', 'differ cut piec day still wonder tender well well flavor', 'order voodoo pasta first time realli excel pasta sinc go gluten free sever year ago', 'place good', 'unfortun must hit bakeri leftov day everyth order stale', 'came back today sinc reloc still not impress', 'seat immedi', 'menu divers reason price', 'avoid cost', 'restaur alway full never wait', 'delici', 'place hand one best place eat phoenix metro area', 'go look good food', 'never treat bad', 'bacon hella salti', 'also order spinach avocado salad ingredi sad dress liter zero tast', 'realli vega fine dine use right menu hand ladi price list', 'waitress friendli', 'lordi khao soi dish not miss curri lover', 'everyth menu terrif also thrill made amaz accommod vegetarian daughter', 'perhap caught night judg review not inspir go back', 'servic leav lot desir', 'atmospher modern hip maintain touch cozi', 'not weekli haunt definit place come back everi', 'liter sat minut one ask take order', 'burger absolut flavor meat total bland burger overcook charcoal flavor', 'also decid not send back waitress look like verg heart attack', 'dress treat rude', 'probabl dirt', 'love place hit spot want someth healthi not lack quantiti flavor', 'order lemon raspberri ice cocktail also incred', 'food suck expect suck could imagin', 'interest decor', 'realli like crepe station', 'also serv hot bread butter home made potato chip bacon bit top origin good', 'watch prepar delici food', 'egg roll fantast', 'order arriv one gyro miss', 'salad wing ice cream dessert left feel quit satisfi', 'not realli sure joey vote best hot dog valley reader phoenix magazin', 'best place go tasti bowl pho', 'live music friday total blow', 'never insult felt disrespect', 'friendli staff', 'worth drive', 'heard good thing place exceed everi hope could dream', 'food great serivc', 'warm beer help', 'great brunch spot', 'servic friendli invit', 'good lunch spot', 'live sinc first last time step foot place', 'worst experi ever', 'must night place', 'side delish mix mushroom yukon gold pure white corn beateou', 'bug never show would given sure side wall bug climb kitchen', 'minut wait salad realiz come time soon', 'friend love salmon tartar', 'go back', 'extrem tasti', 'waitress good though', 'soggi not good', 'jamaican mojito delici', 'small not worth price', 'food rich order accordingli', 'shower area outsid rins not take full shower unless mind nude everyon see', 'servic bit lack', 'lobster bisqu bussel sprout risotto filet need salt pepper cours none tabl', 'hope bode go busi someon cook come', 'either cold not enough flavor bad', 'love bacon wrap date', 'unbeliev bargain', 'folk otto alway make us feel welcom special', 'main also uninspir', 'place first pho amaz', 'wonder experi made place must stop whenev town', 'food bad enough enjoy deal world worst annoy drunk peopl', 'fun chef', 'order doubl cheeseburg got singl patti fall apart pictur upload yeah still suck', 'great place coupl drink watch sport event wall cover tv', 'possibl give zero star', 'descript said yum yum sauc anoth said eel sauc yet anoth said spici mayo well none roll sauc', 'say would hardest decis honestli dish tast suppos tast amaz', 'not roll eye may stay not sure go back tri', 'everyon attent provid excel custom servic', 'horribl wast time money', 'dish quit flavour', 'time side restaur almost empti excus', 'busi either also build freez cold', 'like review said pay eat place', 'drink took close minut come one point', 'serious flavor delight folk', 'much better ayc sushi place went vega', 'light dark enough set mood', 'base sub par servic receiv effort show gratitud busi go back', 'owner realli great peopl', 'noth privileg work eat', 'greek dress creami flavor', 'overal think would take parent place made similar complaint silent felt', 'pizza good peanut sauc tasti', 'tabl servic pretti fast', 'fantast servic', 'well would given godfath zero star possibl', 'know make', 'tough short flavor', 'hope place stick around', 'bar vega not ever recal charg tap water', 'restaur atmospher exquisit', 'good servic clean inexpens boot', 'seafood fresh gener portion', 'plu buck', 'servic not par either', 'thu far visit twice food absolut delici time', 'good year ago', 'self proclaim coffe cafe wildli disappoint', 'veggitarian platter world', 'cant go wrong food', 'beat', 'stop place madison ironman friendli kind staff', 'chef friendli good job', 'better not dedic boba tea spot even jenni pho', 'like patio servic outstand', 'goat taco skimp meat wow flavor', 'think not', 'mac salad pretti bland not get', 'went bachi burger friend recommend not disappoint', 'servic stink', 'wait wait', 'place not qualiti sushi not qualiti restaur', 'would definit recommend wing well pizza', 'great pizza salad', 'thing went wrong burn saganaki', 'wait hour breakfast could done time better home', 'place amaz', 'hate disagre fellow yelper husband disappoint place', 'wait hour never got either pizza mani around us came later', 'know slow', 'staff great food delish incred beer select', 'live neighborhood disappoint back conveni locat', 'know pull pork could soooo delici', 'get incred fresh fish prepar care', 'go gave star rate pleas know third time eat bachi burger write review', 'love fact everyth menu worth', 'never dine place', 'food excel servic good', 'good beer drink select good food select', 'pleas stay away shrimp stir fri noodl', 'potato chip order sad could probabl count mani chip box probabl around', 'food realli bore', 'good servic check', 'greedi corpor never see anoth dime', 'never ever go back', 'much like go back get pass atroci servic never return', 'summer dine charm outdoor patio delight', 'not expect good', 'fantast food', 'order toast english muffin came untoast', 'food good', 'never go back', 'great food price high qualiti hous made', 'bu boy hand rude', 'point friend basic figur place joke mind make publicli loudli known', 'back good bbq lighter fare reason price tell public back old way', 'consid two us left full happi go wrong', 'bread made hous', 'downsid servic', 'also fri without doubt worst fri ever', 'servic except food good review', 'coupl month later return amaz meal', 'favorit place town shawarrrrrrma', 'black eye pea sweet potato unreal', 'disappoint', 'could serv vinaigrett may make better overal dish still good', 'go far mani place never seen restaur serv egg breakfast especi', 'mom got home immedi got sick bite salad', 'server not pleasant deal alway honor pizza hut coupon', 'truli unbeliev good glad went back', 'fantast servic pleas atmospher', 'everyth gross', 'love place', 'great servic food', 'first bathroom locat dirti seat cover not replenish plain yucki', 'burger got gold standard burger kind disappoint', 'omg food delicioso', 'noth authent place', 'spaghetti noth special whatsoev', 'dish salmon best great', 'veget fresh sauc feel like authent thai', 'worth drive tucson', 'select probabl worst seen vega none', 'pretti good beer select', 'place like chipotl better', 'classi warm atmospher fun fresh appet succul steak basebal steak', 'star brick oven bread app', 'eaten multipl time time food delici', 'sat anoth ten minut final gave left', 'terribl', 'everyon treat equal special', 'take min pancak egg', 'delici', 'good side staff genuin pleasant enthusiast real treat', 'sadli gordon ramsey steak place shall sharpli avoid next trip vega', 'alway even wonder food delici', 'best fish ever life', 'bathroom next door nice', 'buffet small food offer bland', 'outstand littl restaur best food ever tast', 'pretti cool would say', 'definit turn doubt back unless someon els buy', 'server great job handl larg rowdi tabl', 'find wast food despic food', 'wife lobster bisqu soup lukewarm', 'would come back sushi crave vega', 'staff great ambianc great', 'deserv star', 'left stomach ach felt sick rest day', 'drop ball', 'dine space tini elegantli decor comfort', 'custom order way like usual eggplant green bean stir fri love', 'bean rice mediocr best', 'best taco town far', 'took back money got outta', 'interest part town place amaz', 'rude inconsider manag', 'staff not friendli wait time serv horribl one even say hi first minut', 'back', 'great dinner', 'servic outshin definit recommend halibut', 'food terribl', 'never ever go back told mani peopl happen', 'recommend unless car break front starv', 'come back everi time vega', 'place deserv one star food', 'disgrac', 'def come back bowl next time', 'want healthi authent ethic food tri place', 'continu come ladi night andddd date night highli recommend place anyon area', 'sever time past experi alway great', 'walk away stuf happi first vega buffet experi', 'servic excel price pretti reason consid vega locat insid crystal shop mall aria', 'summar food incred nay transcend noth bring joy quit like memori pneumat condiment dispens', 'probabl one peopl ever go ian not like', 'kid pizza alway hit lot great side dish option kiddo', 'servic perfect famili atmospher nice see', 'cook perfect servic impecc', 'one simpli disappoint', 'overal disappoint qualiti food bouchon', 'account know get screw', 'great place eat remind littl mom pop shop san francisco bay area', 'today first tast buldogi gourmet hot dog tell ever thought possibl', 'left frustrat', 'definit soon', 'food realli good got full petti fast', 'servic fantast', 'total wast time', 'know kind best ice tea', 'come hungri leav happi stuf', 'servic give star', 'assur disappoint', 'take littl bad servic food suck', 'gave tri eat crust teeth still sore', 'complet gross', 'realli enjoy eat', 'first time go think quickli becom regular', 'server nice even though look littl overwhelm need stay profession friendli end', 'dinner companion told everyth fresh nice textur tast', 'ground right next tabl larg smear step track everywher pile green bird poop', 'furthermor even find hour oper websit', 'tri like place time think done', 'mistak', 'complaint', 'serious good pizza expert connisseur topic', 'waiter jerk', 'strike want rush', 'nicest restaur owner ever come across', 'never come', 'love biscuit', 'servic quick friendli', 'order appet took minut pizza anoth minut', 'absolutley fantast', 'huge awkward lb piec cow th gristl fat', 'definit come back', 'like steiner dark feel like bar', 'wow spici delici', 'not familiar check', 'take busi dinner dollar elsewher', 'love go back', 'anyway fs restaur wonder breakfast lunch', 'noth special', 'day week differ deal delici', 'not mention combin pear almond bacon big winner', 'not back', 'sauc tasteless', 'food delici spici enough sure ask spicier prefer way', 'ribey steak cook perfectli great mesquit flavor', 'think go back anytim soon', 'food gooodd', 'far sushi connoisseur definit tell differ good food bad food certainli bad food', 'insult', 'last time lunch bad', 'chicken wing contain driest chicken meat ever eaten', 'food good enjoy everi mouth enjoy relax venu coupl small famili group etc', 'nargil think great', 'best tater tot southwest', 'love place', 'definit not worth paid', 'vanilla ice cream creami smooth profiterol choux pastri fresh enough', 'im az time new spot', 'manag worst', 'insid realli quit nice clean', 'food outstand price reason', 'think run back carli anytim soon food', 'due fact took minut acknowledg anoth minut get food kept forget thing', 'love margarita', 'first vega buffet not disappoint', 'good though', 'one note ventil could use upgrad', 'great pork sandwich', 'wast time', 'total letdown would much rather go camelback flower shop cartel coffe', 'third chees friend burger cold', 'enjoy pizza brunch', 'steak well trim also perfectli cook', 'group claim would handl us beauti', 'love', 'ask bill leav without eat bring either', 'place jewel la vega exactli hope find nearli ten year live', 'seafood limit boil shrimp crab leg crab leg definit not tast fresh', 'select food not best', 'delici absolut back', 'small famili restaur fine dine establish', 'toro tartar cavier extraordinari like thinli slice wagyu white truffl', 'dont think back long time', 'attach ga station rare good sign', 'awesom', 'back mani time soon', 'menu much good stuff could not decid', 'wors humili worker right front bunch horribl name call', 'conclus fill meal', 'daili special alway hit group', 'tragedi struck', 'pancak also realli good pretti larg', 'first crawfish experi delici', 'monster chicken fri steak egg time favorit', 'waitress sweet funni', 'also tast mom multi grain pumpkin pancak pecan butter amaz fluffi delici', 'rather eat airlin food serious', 'cant say enough good thing place', 'ambianc incred', 'waitress manag friendli', 'would not recommend place', 'overal impress noca', 'gyro basic lettuc', 'terribl servic', 'thoroughli disappoint', 'much pasta love homemad hand made pasta thin pizza', 'give tri happi', 'far best cheesecurd ever', 'reason price also', 'everyth perfect night', 'food good typic bar food', 'drive get', 'first glanc love bakeri cafe nice ambianc clean friendli staff', 'anyway not think go back', 'point finger item menu order disappoint', 'oh thing beauti restaur', 'gone go', 'greasi unhealthi meal', 'first time might last', 'burger amaz', 'similarli deliveri man not say word apolog food minut late', 'way expens', 'sure order dessert even need pack go tiramisu cannoli die', 'first time wait next', 'bartend also nice', 'everyth good tasti', 'place two thumb way', 'best place vega breakfast check sat sun', 'love authent mexican food want whole bunch interest yet delici meat choos need tri place', 'terribl manag', 'excel new restaur experienc frenchman', 'zero star would give zero star', 'great steak great side great wine amaz dessert', 'worst martini ever', 'steak shrimp opinion best entre gc', 'opportun today sampl amaz pizza', 'wait thirti minut seat although vacant tabl folk wait', 'yellowtail carpaccio melt mouth fresh', 'tri go back even empti', 'go eat potato found stranger hair', 'spici enough perfect actual', 'last night second time dine happi decid go back', 'not even hello right', 'dessert bit strang', 'boyfriend came first time recent trip vega could not pleas qualiti food servic', 'realli recommend place go wrong donut place', 'nice ambianc', 'would recommend save room', 'guess mayb went night disgrac', 'howev recent experi particular locat not good', 'know not like restaur someth', 'avoid establish', 'think restaur suffer not tri hard enough', 'tapa dish delici', 'heart place', 'salad bland vinegrett babi green heart palm', 'two felt disgust', 'good time', 'believ place great stop huge belli hanker sushi', 'gener portion great tast', 'never go back place never ever recommend place anyon', 'server went back forth sever time not even much help', 'food delici', 'hour serious', 'consid theft', 'eew locat need complet overhaul', 'recent wit poor qualiti manag toward guest well', 'wait wait wait', 'also came back check us regularli excel servic', 'server super nice check us mani time', 'pizza tast old super chewi not good way', 'swung give tri deepli disappoint', 'servic good compani better', 'staff also friendli effici', 'servic fan quick serv nice folk', 'boy sucker dri', 'rate', 'look authent thai food go els', 'steak recommend', 'pull car wait anoth minut acknowledg', 'great food great servic clean friendli set', 'assur back', 'hate thing much cheap qualiti black oliv', 'breakfast perpar great beauti present giant slice toast lightli dust powder sugar', 'kid play area nasti', 'great place fo take eat', 'waitress friendli happi accomod vegan veggi option', 'omg felt like never eaten thai food dish', 'extrem crumbi pretti tasteless', 'pale color instead nice char flavor', 'crouton also tast homemad extra plu', 'got home see driest damn wing ever', 'regular stop trip phoenix', 'realli enjoy crema caf expand even told friend best breakfast', 'not good money', 'miss wish one philadelphia', 'got sit fairli fast end wait minut place order anoth minut food arriv', 'also best chees crisp town', 'good valu great food great servic', 'ask satisfi meal', 'food good', 'awesom', 'want leav', 'made drive way north scottsdal not one bit disappoint', 'not eat', 'owner realli realli need quit soooooo cheap let wrap freak sandwich two paper not one', 'check place coupl year ago not impress', 'chicken got definit reheat ok wedg cold soggi', 'sorri not get food anytim soon', 'absolut must visit', 'cow tongu cheek taco amaz', 'friend not like bloodi mari', 'despit hard rate busi actual rare give star', 'realli want make experi good one', 'not return', 'chicken pho tast bland', 'disappoint', 'grill chicken tender yellow saffron season', 'drive thru mean not want wait around half hour food somehow end go make us wait wait', 'pretti awesom place', 'ambienc perfect', 'best luck rude non custom servic focus new manag', 'grandmoth make roast chicken better one', 'ask multipl time wine list time ignor went hostess got one', 'staff alway super friendli help especi cool bring two small boy babi', 'four star food guy blue shirt great vibe still let us eat', 'roast beef sandwich tast realli good', 'even drastic sick', 'high qualiti chicken chicken caesar salad', 'order burger rare came done', 'promptli greet seat', 'tri go lunch madhous', 'proven dead wrong sushi bar not qualiti great servic fast food impecc', 'wait hour seat not greatest mood', 'good joint', 'macaron insan good', 'not eat', 'waiter attent friendli inform', 'mayb cold would somewhat edibl', 'place lot promis fail deliv', 'bad experi', 'mistak', 'food averag best', 'great food', 'go back anytim soon', 'disappoint order big bay plater', 'great place relax awesom burger beer', 'perfect sit famili meal get togeth friend', 'not much flavor poorli construct', 'patio seat comfort', 'fri rice dri well', 'hand favorit italian restaur', 'scream legit book somethat also pretti rare vega', 'not fun experi', 'atmospher great love duo violinist play song request', 'person love hummu pita baklava falafel baba ganoush amaz eggplant', 'conveni sinc stay mgm', 'owner super friendli staff courteou', 'great', 'eclect select', 'sweet potato tot good onion ring perfect close', 'staff attent', 'chef gener time even came around twice take pictur', 'owner use work nobu place realli similar half price', 'googl mediocr imagin smashburg pop', 'dont go', 'promis disappoint', 'sushi lover avoid place mean', 'great doubl cheeseburg', 'awesom servic food', 'fantast neighborhood gem', 'wait go back', 'plantain worst ever tast', 'great place highli recommend', 'servic slow not attent', 'gave star give star', 'staff spend time talk', 'dessert panna cotta amaz', 'good food great atmospher', 'damn good steak', 'total brunch fail', 'price reason flavor spot sauc home made slaw not drench mayo', 'decor nice piano music soundtrack pleasant', 'steak amaz rge fillet relleno best seafood plate ever', 'good food good servic', 'absolut amaz', 'probabl back honest', 'definit back', 'sergeant pepper beef sandwich auju sauc excel sandwich well', 'hawaiian breez mango magic pineappl delight smoothi tri far good', 'went lunch servic slow', 'much say place walk expect amaz quickli disappoint', 'mortifi', 'needless say never back', 'anyway food definit not fill price pay expect', 'chip came drip greas mostli not edibl', 'realli impress strip steak', 'go sinc everi meal awesom', 'server nice attent serv staff', 'cashier friendli even brought food', 'work hospit industri paradis valley refrain recommend cibo longer', 'atmospher fun', 'would not recommend other', 'servic quick even go order like like', 'mean realli get famou fish chip terribl', 'said mouth belli still quit pleas', 'not thing', 'thumb', 'read pleas go', 'love grill pizza remind legit italian pizza', 'pro larg seat area nice bar area great simpl drink menu best brick oven pizza homemad dough', 'realli nice atmospher', 'tonight elk filet special suck', 'one bite hook', 'order old classic new dish go time sore disappoint everyth', 'cute quaint simpl honest', 'chicken delici season perfect fri outsid moist chicken insid', 'food great alway compliment chef', 'special thank dylan recommend order yummi tummi', 'awesom select beer', 'great food awesom servic', 'one nice thing ad gratuiti bill sinc parti larger expect tip', 'fli appl juic fli', 'han nan chicken also tasti', 'servic thought good', 'food bare lukewarm must sit wait server bring us', 'ryan bar definit one edinburgh establish revisit', 'nicest chines restaur', 'overal like food servic', 'also serv indian naan bread hummu spici pine nut sauc world', 'probabl never come back recommend', 'friend pasta also bad bare touch', 'tri airport experi tasti food speedi friendli servic', 'love decor chines calligraphi wall paper', 'never anyth complain', 'restaur clean famili restaur feel', 'way fri', 'not sure long stood long enough begin feel awkwardli place', 'open sandwich impress not good way', 'not back', 'warm feel servic felt like guest special treat', 'extens menu provid lot option breakfast', 'alway order vegetarian menu dinner wide array option choos', 'watch price inflat portion get smaller manag attitud grow rapidli', 'wonder lil tapa ambienc made feel warm fuzzi insid', 'got enjoy seafood salad fabul vinegrett', 'wonton thin not thick chewi almost melt mouth', 'level spici perfect spice whelm soup', 'sat right time server get go fantast', 'main thing enjoy crowd older crowd around mid', 'side town definit spot hit', 'wait minut get drink longer get arepa', 'great place eat', 'jalapeno bacon soooo good', 'servic poor that nice', 'food good servic good price good', 'place not clean food oh stale', 'chicken dish ok beef like shoe leather', 'servic beyond bad', 'happi', 'tast like dirt', 'one place phoenix would defin go back', 'block amaz', 'close hous low key non fanci afford price good food', 'hot sour egg flower soup absolut star', 'sashimi poor qualiti soggi tasteless', 'great time famili dinner sunday night', 'food not tasti not say real tradit hunan style', 'bother slow servic', 'flair bartend absolut amaz', 'frozen margarita way sugari tast', 'good order twice', 'nutshel restaraunt smell like combin dirti fish market sewer', 'girlfriend veal bad', 'unfortun not good', 'pretti satifi experi', 'join club get awesom offer via email', 'perfect someon like beer ice cold case even colder', 'bland flavorless good way describ bare tepid meat', 'chain fan beat place easili', 'nacho must', 'not come back', 'mani word say place everyth pretti well', 'staff super nice quick even crazi crowd downtown juri lawyer court staff', 'great atmospher friendli fast servic', 'receiv pita huge lot meat thumb', 'food arriv meh', 'pay hot dog fri look like came kid meal wienerschnitzel not idea good meal', 'classic main lobster roll fantast', 'brother law work mall ate day guess sick night', 'good go review place twice herea tribut place tribut event held last night', 'chip salsa realli good salsa fresh', 'place great', 'mediocr food', 'get insid impress place', 'super pissd', 'servic super friendli', 'sad littl veget overcook', 'place nice surpris', 'golden crispi delici', 'high hope place sinc burger cook charcoal grill unfortun tast fell flat way flat', 'could eat bruschetta day devin', 'not singl employe came see ok even need water refil final serv us food', 'lastli mozzarella stick best thing order', 'first time ever came amaz experi still tell peopl awesom duck', 'server neglig need made us feel unwelcom would not suggest place', 'servic terribl though', 'place overpr not consist boba realli overpr', 'pack', 'love place', 'say dessert yummi', 'food terribl', 'season fruit fresh white peach pure', 'kept get wors wors offici done', 'place honestli blown', 'definit would not eat', 'not wast money', 'love put food nice plastic contain oppos cram littl paper takeout box', 'cr pe delic thin moist', 'aw servic', 'ever go', 'food qualiti horribl', 'price think place would much rather gone', 'servic fair best', 'love sushi found kabuki price hip servic', 'favor stay away dish', 'poor servic', 'one tabl thought food averag worth wait', 'best servic food ever maria server good friendli made day', 'excel', 'paid bill not tip felt server terribl job', 'lunch great experi', 'never bland food surpris consid articl read focus much spice flavor', 'food way overpr portion fuck small', 'recent tri caballero back everi week sinc', 'buck head realli expect better food', 'food came good pace', 'ate twice last visit especi enjoy salmon salad', 'back', 'could not believ dirti oyster', 'place deserv star', 'would not recommend place', 'fact go round star awesom', 'disbelief dish qualifi worst version food ever tast', 'bad day not low toler rude custom servic peopl job nice polit wash dish otherwis', 'potato great biscuit', 'probabl would not go', 'flavor perfect amount heat', 'price reason servic great', 'wife hate meal coconut shrimp friend realli not enjoy meal either', 'fella got huevo ranchero look appeal', 'went happi hour great list wine', 'may say buffet pricey think get pay place get quit lot', 'probabl come back', 'worst food servic', 'place pretti good nice littl vibe restaur', 'talk great custom servic cours back', 'hot dish not hot cold dish close room temp watch staff prepar food bare hand glove everyth deep fri oil', 'love fri bean', 'alway pleasur deal', 'plethora salad sandwich everyth tri get seal approv', 'place awesom want someth light healthi summer', 'sushi strip place go', 'servic great even manag came help tabl', 'feel dine room colleg cook cours high class dine servic slow best', 'start review two star edit give one', 'worst sushi ever eat besid costco', 'excel restaur highlight great servic uniqu menu beauti set', 'boyfriend sat bar complet delight experi', 'weird vibe owner', 'hardli meat', 'better bagel groceri store', 'go place gyro', 'love owner chef one authent japanes cool dude', 'burger good pizza use amaz doughi flavorless', 'found six inch long piec wire salsa', 'servic terribl food mediocr', 'defin enjoy', 'order albondiga soup warm tast like tomato soup frozen meatbal', 'three differ occas ask well done medium well three time got bloodiest piec meat plate', 'two bite refus eat anymor', 'servic extrem slow', 'minut wait got tabl', 'serious killer hot chai latt', 'allergi warn menu waitress absolut clue meal not contain peanut', 'boyfriend tri mediterranean chicken salad fell love', 'rotat beer tap also highlight place', 'price bit concern mellow mushroom', 'worst thai ever', 'stay vega must get breakfast least', 'want first say server great perfect servic', 'pizza select good', 'strawberri tea good', 'highli unprofession rude loyal patron', 'overal great experi', 'spend money elsewher', 'regular toast bread equal satisfi occasion pat butter mmmm', 'buffet bellagio far anticip', 'drink weak peopl', 'order not correct', 'also feel like chip bought not made hous', 'disappoint dinner went elsewher dessert', 'chip sal amaz', 'return', 'new fav vega buffet spot', 'serious cannot believ owner mani unexperienc employe run around like chicken head cut', 'sad', 'felt insult disrespect could talk judg anoth human like', 'call steakhous properli cook steak understand', 'not impress concept food', 'thing crazi guacamol like pur ed', 'realli noth postino hope experi better', 'got food poison buffet', 'brought fresh batch fri think yay someth warm', 'hilari yummi christma eve dinner rememb biggest fail entir trip us', 'needless say go back anytim soon', 'place disgust', 'everi time eat see care teamwork profession degre', 'ri style calamari joke', 'howev much garlic fondu bare edibl', 'could bare stomach meal complain busi lunch', 'bad lost heart finish', 'also took forev bring us check ask', 'one make scene restaur get definit lost love one', 'disappoint experi', 'food par denni say not good', 'want wait mediocr food downright terribl servic place', 'waaaaaayyyyyyyyyi rate say', 'go back', 'place fairli clean food simpli worth', 'place lack style', 'sangria half glass wine full ridicul', 'bother come', 'meat pretti dri slice brisket pull pork', 'build seem pretti neat bathroom pretti trippi eat', 'equal aw', 'probabl not hurri go back', 'slow seat even reserv', 'not good stretch imagin', 'cashew cream sauc bland veget undercook', 'chipolt ranch dip saus tasteless seem thin water heat', 'bit sweet not realli spici enough lack flavor', 'disappoint', 'place horribl way overpr', 'mayb vegetarian fare twice thought averag best', 'busi know', 'tabl outsid also dirti lot time worker not alway friendli help menu', 'ambianc not feel like buffet set douchey indoor garden tea biscuit', 'con spotti servic', 'fri not hot neither burger', 'came back cold', 'food came disappoint ensu', 'real disappoint waiter', 'husband said rude not even apolog bad food anyth', 'reason eat would fill night bing drink get carb stomach', 'insult profound deuchebaggeri go outsid smoke break serv solidifi', 'someon order two taco think may part custom servic ask combo ala cart', 'quit disappoint although blame need place door', 'rave review wait eat disappoint', 'del taco pretti nasti avoid possibl', 'not hard make decent hamburg', 'like', 'hell go back', 'gotten much better servic pizza place next door servic receiv restaur', 'know big deal place back ya', 'immedi said want talk manag not want talk guy shot firebal behind bar', 'ambianc much better', 'unfortun set us disapppoint entre', 'food good', 'server suck wait correct server heimer suck', 'happen next pretti put', 'bad caus know famili own realli want like place', 'overpr get', 'vomit bathroom mid lunch', 'kept look time soon becom minut yet still food', 'place eat circumst would ever return top list', 'start tuna sashimi brownish color obvious fresh', 'food averag', 'sure beat nacho movi would expect littl bit come restaur', 'ha long bay bit flop', 'problem charg sandwich bigger subway sub offer better amount veget', 'shrimp unwrap live mile brushfir liter ice cold', 'lack flavor seem undercook dri', 'realli impress place close', 'would avoid place stay mirag', 'refri bean came meal dri crusti food bland', 'spend money time place els', 'ladi tabl next us found live green caterpillar salad', 'present food aw', 'tell disappoint', 'think food flavor textur lack', 'appetit instantli gone', 'overal not impress would not go back', 'whole experi underwhelm think go ninja sushi next time', 'wast enough life pour salt wound draw time took bring check']\n"
     ]
    }
   ],
   "source": [
    "#nltk\n",
    "corpus = []\n",
    "for i in ds['Review']:\n",
    "    review = re.sub('[^a-zA-z]',' ',i)\n",
    "    review = review.lower()\n",
    "    review = review.split()\n",
    "    ps = PorterStemmer()\n",
    "    stwords = stopwords.words('english')\n",
    "    stwords.remove(\"not\")\n",
    "    review = [ps.stem(word) for word in review if word not in stwords]\n",
    "    review = ' '.join(review)\n",
    "    corpus.append(review)\n",
    "print(corpus)"
   ]
  },
  {
   "cell_type": "code",
   "execution_count": 4,
   "id": "8b8a6970",
   "metadata": {},
   "outputs": [
    {
     "name": "stdout",
     "output_type": "stream",
     "text": [
      "['wow     love place', 'crust not good', 'not tasty texture nasty', 'stop late may bank holiday rick steve recommendation love', 'selection menu great price', 'get angry want damn pho', 'honeslty taste fresh  ', 'potato like rubber could tell make ahead time keep warm', 'fry great', 'great touch', 'service prompt', 'would not go back', 'cashier care ever say still end wayyy overpriced', 'try cape cod ravoli   chicken   cranberry    mmmm', 'disgusted pretty sure human hair', 'shocked sign indicate cash', 'highly recommend', 'waitress little slow service', 'place not worth time   let alone vegas', 'not like', 'burrittos blah', 'food   amazing', 'service also cute', 'could care less     interior beautiful', 'perform', 'right     red velvet cake      ohhh stuff good', '   never bring salad ask', 'hole wall great mexican street taco   friendly staff', 'take hour get food    table restaurant food luke warm   sever run around like totally overwhelmed', 'bad salmon sashimi', 'also combo like burger   fry   beer     decent deal', 'like final blow', 'find place accident could not happy', 'seem like good quick place grab bite familiar pub food   favor look elsewhere', 'overall   like place lot', 'redeeming quality restaurant inexpensive', 'ample portion good price', 'poor service   waiter make feel like stupid every time come table', 'first visit hiro delight', 'service suck', 'shrimp tender moist', 'not deal good enough would drag establishment', 'hard judge whether side good gross melt styrofoam want eat fear get sick', 'positive note   server attentive provide great service', 'frozen puck disgust   bad people behind register', 'thing like prime rib dessert section', 'bad food damn generic', 'burger good beef   cook right', 'want sandwich go firehouse     ', 'side greek salad greek dressing tasty   pita hummus refreshing', 'order duck rare pink tender inside nice char outside', 'come run we realize husband leave sunglass table', 'chow mein good', 'horrible attitude towards customer   talk one customer enjoy food', 'portion huge', 'love    friendly server   great food   wonderful imaginative menu', 'heart attack grill downtown vegas absolutely flat line excuse restaurant', 'not much seafood like    string pasta bottom', 'salad right amount sauce not power scallop   perfectly cook', 'rip banana not rip   petrified tasteless', 'least think refill water struggle wave     minute', 'place receive star appetizer   ', 'cocktail handmade delicious', 'definitely go back', 'glad find place', 'great food service   huge portion give military discount', 'always great time dos gringos', 'update      go back second time still amazing', 'get food apparently never hear salt batter fish chewy', 'great way finish great', 'deal include    tasting    drink   jeff go beyond expect', '   really   really good rice   time', 'service meh', 'take     min get milkshake   nothing chocolate milk', 'guess know place would suck   inside excalibur   use common sense', 'scallop dish quite appalling value well', '   time    bad customer service  ', 'sweet potato fry good seasoned well', 'today second time lunch buffet pretty good', 'much good food vegas feel cheat waste eat opportunity go rice company', 'come like experience underwhelming relationship party wait person ask break', 'walk place smell like old grease trap    other eat', 'turkey roast beef bland', 'place', 'pan cake everyone rave taste like sugary disaster tailor palate six year old', 'love pho spring roll oh yummy try', 'poor batter meat ratio make chicken tender unsatisfying', 'say food amazing   ', 'omelet die', 'everything fresh delicious', 'summary   largely disappointing dining experience', 'like really sexy party mouth   outrageously flirt hot person party', 'never hard rock casino   never ever step forward', 'good breakfast buffet   ', 'say bye bye tip lady', 'never go', 'back', 'food arrive quickly', 'not good', 'side   cafe serve really good food', 'server fantastic find wife love roasted garlic bone marrow   add extra meal another marrow go', 'good thing waiter   helpful keep bloddy mary come', 'good buffet town   price not beat', 'love mussel cook wine reduction   duck tender   potato dish delicious', 'one well buffet', 'go tigerlilly fantastic afternoon', 'food delicious   bartender attentive personable get great deal', 'ambience wonderful music play', 'go back next trip', 'sooooo good  ', 'real sushi lover   let honest    yama not good', 'least    min pass we order food arrive   busy', 'really fantastic thai restaurant definitely worth visit', 'nice   spicy tender', 'good price', 'check', 'pretty gross', 'well atmosphere', 'kind hard mess steak', 'although much like look sound place   actual experience bit disappointing', 'know place manage serve bland food ever eat prepare indian cuisine', 'bad service boot   least worry', 'service fine waitress friendly', 'guy steak   steak love son steak good bad place say good steak ever eat', 'think venture away get good sushi   place really hit spot night', 'host staff   lack well word   bitch', 'bland     not like place number reason want waste time bad review    leave   ', 'phenomenal food   service ambiance', 'return', 'definitely worth venture strip pork belly   return next time vegas', 'place way overpriced mediocre food', 'penne vodka excellent', 'good selection food include massive meatloaf sandwich   crispy chicken wrap   delish tuna melt tasty burger', 'management rude', 'delicious nyc bagel   good selection cream cheese   real lox caper even', 'great subway   fact good come every subway not meet expectation', 'seriously solid breakfast', 'one good bar food vegas', 'extremely rude really   many restaurant would love dine weekend vegas', 'drink never empty make really great menu suggestion', '   ', 'waiter helpful friendly rarely check we', 'husband eat lunch disappointed food service', 'red curry much bamboo shoot tasty', 'nice blanket moz top feel like do cover subpar food', 'bathroom clean place well decorate', 'menu always change   food quality go    service extremely slow', 'service little slow    consider serve    people server food come slow pace', 'give    thumb', 'watch waiter pay lot attention table ignore we', 'fianc   come middle day greet seat right away', 'great restaurant mandalay bay', 'wait forty five minute vain', 'crostini come salad stale', 'highlight    great quality nigiri', 'staff friendly joint always clean', 'different cut piece day still wonderful tender well well flavored', 'order voodoo pasta first time really excellent pasta since go gluten free several year ago', 'place good', 'unfortunately   must hit bakery leftover day everything order stale', 'come back today since relocate still not impressed', 'seat immediately', 'menu diverse   reasonably price', 'avoid cost', 'restaurant always full never wait', 'delicious  ', 'place hand one good place eat phoenix metro area', 'go look good food   ', 'never treat bad', 'bacon hella salty', 'also order spinach avocado salad   ingredient sad dressing literally zero taste', 'really vegas fine dining use   right menu hand lady price list', 'waitress friendly', 'lordy   khao soi dish not miss curry lover', 'everything menu terrific also thrilled make amazing accommodation vegetarian daughter', 'perhaps catch night judge review   not inspire go back', 'service leave lot desire', 'atmosphere modern hip   maintain touch coziness', 'not weekly haunt   definitely place come back every', 'literally sit     minute one ask take order', 'burger absolutely flavor    meat totally bland   burger overcook charcoal flavor', 'also decide not send back waitress look like verge heart attack', 'dress treat rudely', 'probably dirt', 'love place   hit spot want something healthy not lack quantity flavor', 'order lemon raspberry ice cocktail also incredible', 'food suck   expect suck could imagine', 'interesting decor', 'really like crepe station', 'also serve hot bread butter   home make potato chip bacon bit top     original good', 'watch prepare delicious food  ', 'egg roll fantastic', 'order arrive   one gyro miss', 'salad wing   ice cream dessert leave feel quite satisfied', 'not really sure joey vote well hot dog valley reader phoenix magazine', 'good place go tasty bowl pho', 'live music friday totally blow', 'never insult felt disrespect', 'friendly staff', 'worth drive', 'hear good thing place   exceed every hope could dream', 'food great serivce', 'warm beer help', 'great brunch spot', 'service friendly invite', 'good lunch spot', 'live since       first   last   time step foot place', 'bad experience ever', 'must night place', 'side delish    mix mushroom   yukon gold puree   white corn    beateous', 'bug never show would give    sure   side wall bug climb kitchen', '    minute   wait salad realize come time soon', 'friend love salmon tartar', 'go back', 'extremely tasty', 'waitress good though', 'soggy not good', 'jamaican mojito delicious', 'small not worth price', '   food rich order accordingly', 'shower area outside rinse   not take full shower   unless mind nude everyone see', 'service bit lack', 'lobster bisque   bussell sprout   risotto   filet need salt pepper   course none table', 'hopefully bode go business someone cook come', 'either cold   not enough flavor bad', 'love bacon wrap date', 'unbelievable bargain', 'folk otto always make we feel welcome special', '  main    also uninspired', 'place first pho amazing  ', 'wonderful experience make place must stop whenever town', 'food bad enough   enjoy deal world worst annoying drunk people', 'fun chef', 'order double cheeseburger    get single patty fall apart   picture upload   yeah   still suck', 'great place couple drink watch sport event wall cover tv', 'possible give zero star  ', 'description say   yum yum sauce   another say   eel sauce    yet another say   spicy mayo     well none roll sauce', 'say would hard decision     honestly   dish taste suppose taste   amazing  ', 'not roll eye may stay     not sure go back try', 'everyone attentive   provide excellent customer service', 'horrible    waste time money', 'dish quite flavourful', 'time side restaurant almost empty excuse', '  busy either   also   building freeze cold', 'like reviewer say   pay eat place  ', '  drink take close     minute come one point', 'seriously flavorful delight   folk', 'much well ayce sushi place go vegas', 'lighting dark enough set mood', 'base sub par service receive effort show gratitude business go back', 'owner really great people  ', 'nothing privileged work eat', 'greek dressing creamy flavorful', 'overall   think would take parent place make similar complaint silently feel', 'pizza good peanut sauce tasty', '   table service pretty fast', 'fantastic service', 'well would give godfather zero star possible', 'know make', 'tough short flavor', 'hope place stick around', 'bar vegas   not ever recall charge tap water', 'restaurant atmosphere exquisite', 'good service   clean   inexpensive   boot', 'seafood fresh generous portion', 'plus      buck', 'service not par   either', 'thus far   visit twice food absolutely delicious time', 'good year ago', 'self proclaim coffee cafe   wildly disappointed', 'veggitarian platter world', 'can not go wrong food', 'beat', 'stop place madison ironman   friendly   kind staff', 'chef friendly good job', 'well   not dedicated boba tea spot   even jenni pho', 'like patio service outstanding', 'goat taco skimp meat wow flavor', 'think not', 'mac salad pretty bland not get', 'go bachi burger friend recommendation not disappointed', 'service stink', 'wait wait', 'place not quality sushi   not quality restaurant', 'would definitely recommend wing well pizza', 'great pizza salad', 'thing go wrong     burn saganaki', 'wait hour breakfast could do      time well home', 'place amazing', 'hate disagree fellow yelper   husband disappointed place', 'wait    hour    never get either pizza many around we come later', 'know slow', 'staff great   food delish   incredible beer selection', 'live neighborhood disappointed back   convenient location', 'know pull pork could soooo delicious', 'get incredibly fresh fish   prepare care', 'go give    star rating please know third time eat bachi burger write review', 'love fact everything menu worth', 'never dine place', 'food excellent service good', 'good beer    drink selection good food selection', 'please stay away shrimp stir fried noodle', 'potato chip order sad     could probably count many chip box probably around    ', 'food really boring', 'good service check', 'greedy corporation never see another dime', 'never   ever go back', 'much like go back   get pass atrocious service never return', 'summer   dine charming outdoor patio    delightful', 'not expect good', 'fantastic food', 'order toasted english muffin come untoasted', 'food good', 'never go back', 'great food price   high quality house make', 'bus boy hand rude', 'point   friend basically figure place joke mind make publicly loudly know', 'back good bbq   light fare   reasonable pricing tell public back old way', 'consider two we leave full happy       go wrong', 'bread make house', 'downside service', 'also   fry without doubt bad fry ever', 'service exceptional food good review', 'couple month later   return amazing meal', 'favorite place town shawarrrrrrma      ', 'black eyed pea sweet potato     unreal', 'disappoint', 'could serve vinaigrette may make well overall dish   still good', 'go far many place never see restaurant serve    egg breakfast   especially       ', 'mom get home immediately get sick bite salad', 'server not pleasant deal always honor pizza hut coupon', 'truly unbelievably good   glad go back', 'fantastic service   pleased atmosphere', 'everything gross', 'love place', 'great service food', 'first    bathroom location dirty   seat cover not replenish    plain yucky   ', 'burger     get   gold standard        burger kind disappointed', 'omg   food delicioso', 'nothing authentic place', 'spaghetti nothing special whatsoever', 'dish   salmon good   great', 'vegetable fresh sauce feel like authentic thai', 'worth drive tucson', 'selection probably bad see vegas      none', 'pretty good beer selection', 'place like chipotle   well', 'classy warm atmosphere   fun fresh appetizer   succulent steak   baseball steak     ', '   star brick oven bread app', 'eat multiple time   time food delicious', 'sit another ten minute finally give leave', 'terrible', 'everyone treat equally special', 'take     min pancake egg', 'delicious   ', 'good side   staff genuinely pleasant enthusiastic    real treat', 'sadly   gordon ramsey steak place shall sharply avoid next trip vegas', 'always evening wonderful food delicious', 'good fish ever life', '  bathroom next door nice  ', 'buffet small food offer bland', 'outstanding little restaurant good food ever taste', 'pretty cool would say', 'definitely turn    doubt back unless someone else buy', 'server great job handle large rowdy table', 'find waste food despicable   food', 'wife lobster bisque soup lukewarm', 'would come back sushi craving vegas', 'staff great   ambiance great', 'deserve    star', 'leave stomach ache feel sick rest day', 'drop ball', 'dining space tiny   elegantly decorate comfortable', 'customize order way like   usual eggplant green bean stir fry   love', 'bean rice mediocre good', 'good taco town far  ', 'take back money get outta', 'interesting part town   place amazing', 'rude    inconsiderate management', 'staff not friendly   wait time serve horrible   one even say hi first     minute', 'back', 'great dinner', 'service outshine    definitely recommend halibut', 'food terrible', 'never ever go back tell many people happen', 'recommend unless car break front starve', 'come back every time vegas', 'place deserve one star      food', 'disgrace', 'def come back bowl next time', 'want healthy authentic ethic food   try place', 'continue come lady night andddd date night      highly recommend place anyone area', 'several time past   experience always great', 'walk away stuff happy first vegas buffet experience', 'service excellent price pretty reasonable consider vegas locate inside crystal shop mall aria', 'summarize     food incredible   nay   transcendant     nothing bring joy quite like memory pneumatic condiment dispenser', 'probably one people ever go ian not like', 'kid pizza always hit lot great side dish option kiddo', 'service perfect family atmosphere nice see', 'cook perfection service impeccable', 'one simply disappointment', 'overall   disappointed quality food bouchon', 'accountant know getting screw', 'great place eat   remind little mom pop shop san francisco bay area', 'today first taste buldogis gourmet hot dog tell ever think possible', 'leave frustrated', 'definitely soon', 'food really good get full petty fast', 'service fantastic', 'total waste time', 'know kind well iced tea', 'come hungry   leave happy stuff', 'service   give star', 'assure disappoint', 'take little bad service food suck', 'give try eat crust   tooth still sore  ', 'completely gross', 'really enjoy eat', 'first time go think quickly become regular', 'server nice   even though look little overwhelmed need   stay professional friendly end', 'dinner companion tell    everything fresh nice texture taste', 'ground   right next table large   smear   step track everywhere pile green bird poop', 'furthermore   even find hour operation website', 'try like place      time think do', 'mistake', 'complaint', 'seriously good pizza expert connisseur topic', 'waiter jerk', 'strike     want rush', 'nice restaurant owner ever come across', 'never come', 'love biscuit   ', 'service quick friendly', 'order appetizer take     minute pizza another     minute', 'absolutley fantastic', 'huge awkward     lb piece cow     th gristle fat', 'definitely come back', 'like steiner dark feel like bar', 'wow spicy delicious', 'not familiar   check', 'take business dinner dollar elsewhere', 'love go back', 'anyway   fs restaurant wonderful breakfast lunch', 'nothing special', 'day week different deal delicious', 'not mention combination pear   almond bacon big winner', 'not back', 'sauce tasteless', 'food delicious spicy enough   sure ask spicy prefer way', 'ribeye steak cook perfectly great mesquite flavor', 'think go back anytime soon', 'food gooodd', 'far sushi connoisseur definitely tell difference good food bad food certainly bad food', 'insulted', 'last    time lunch bad', 'chicken wing contain dry chicken meat ever eat', 'food good enjoy every mouthful   enjoyable relaxed venue couple small family group etc', 'nargile    think great', 'good tater tot southwest', 'love place', 'definitely not worth     pay', 'vanilla ice cream creamy smooth profiterole   choux   pastry fresh enough', 'az time new spot', 'manager bad', 'inside really quite nice clean', 'food outstanding price reasonable', 'think run back carly anytime soon food', 'due fact take     minute acknowledge   another     minute get food    keep forget thing', 'love margarita  ', 'first vegas buffet not disappoint', 'good   though', 'one note ventilation could use upgrading', 'great pork sandwich', 'waste time', 'total letdown   would much rather go camelback flower shop cartel coffee', 'third   cheese friend burger cold', 'enjoy pizza brunch', 'steak well trim also perfectly cook', 'group      claim would     handle we beautifully', 'love', 'ask bill leave without eat bring either', 'place jewel las vegas   exactly hope find nearly ten year live', 'seafood limit boil shrimp crab leg crab leg definitely not taste fresh', 'selection food not good', 'delicious absolutely back', 'small family restaurant   fine dining establishment', 'toro tartare cavier extraordinary like thinly slice wagyu white truffle', 'not think back long time', 'attach gas station   rarely good sign', 'awesome', 'back many time soon', 'menu much good stuff could not decide', 'bad   humiliate worker right front   bunch horrible name calling', 'conclusion   fill meal', 'daily special always hit group', 'tragedy strike', 'pancake also really good pretty large', 'first crawfish experience   delicious', 'monster chicken fry steak egg time favorite', 'waitress sweet funny', 'also taste mom multi grain pumpkin pancake pecan butter amazing   fluffy   delicious', 'rather eat airline food   seriously', 'can not say enough good thing place', 'ambiance incredible', 'waitress manager friendly', 'would not recommend place', 'overall impressed noca', 'gyro basically lettuce', 'terrible service', 'thoroughly disappoint', 'much pasta   love homemade   hand make pasta thin pizza', 'give try   happy', 'far good cheesecurd ever', 'reasonably price also', 'everything perfect night', 'food good typical bar food', 'drive get', 'first glance lovely bakery cafe    nice ambiance   clean   friendly staff', 'anyway   not think go back', 'point finger item menu   order disappoint', 'oh thing beauty   restaurant', 'go go', 'greasy   unhealthy meal', 'first time might last', 'burger amazing', 'similarly   delivery man not say word apology food     minute late', 'way expensive', 'sure order dessert   even need pack go    tiramisu cannoli die', 'first time wait next', 'bartender also nice', 'everything good tasty', 'place two thumb     way', 'good place vegas breakfast   check sat   sun', 'love authentic mexican food want whole bunch interesting   yet delicious meat choose   need try place', 'terrible management', 'excellent new restaurant experienced frenchman', 'zero star would give zero star', 'great steak   great side   great wine   amazing dessert', 'bad martini ever', 'steak shrimp opinion good entree gc', 'opportunity today sample amazing pizza', 'wait thirty minute seat   although    vacant table folk wait  ', 'yellowtail carpaccio melt mouth fresh', 'try go back even empty', '  go eat potato find stranger hair', 'spicy enough    perfect actually', 'last night second time dining happy decide go back', 'not even   hello   right  ', 'dessert bit strange', 'boyfriend come first time recent trip vegas could not pleased quality food service', 'really recommend place   go wrong donut place', 'nice ambiance', 'would recommend saving room', 'guess maybe go night disgraceful', 'however   recent experience particular location not good', 'know not like restaurant   something', 'avoid establishment', 'think restaurant suffer not try hard enough', 'tapas dish delicious', '  heart   place', 'salad bland vinegrette baby green heart palm', 'two feel disgusting', 'good time', 'believe place great stop huge belly hanker sushi', 'generous portion great taste', 'never go back place never ever recommend place anyone', 'server go back forth several time   not even much   help  ', 'food delicious', 'hour     seriously', 'consider theft', 'eew     location need complete overhaul', 'recently witness poor quality management towards guest well', 'wait wait wait', 'also come back check we regularly   excellent service', 'server super nice check we many time', 'pizza taste old   super chewy not good way', 'swing give try deeply disappointed', 'service good company well', 'staff also friendly efficient', 'service   fan   quick serve nice folk', 'boy sucker dry   ', 'rate', 'look authentic thai food   go else', 'steak       recommend', 'pull car wait another     minute acknowledge', 'great food great service clean friendly setting', '  assure back', 'hate thing much cheap quality black olive', 'breakfast perpare great   beautiful presentation    giant slice toast   lightly dust powdered sugar', 'kid play area nasty', 'great place fo take eat', 'waitress friendly happy accomodate vegan veggie option', 'omg feel like never eat thai food dish', 'extremely   crumby   pretty tasteless', 'pale color instead nice char flavor', 'crouton also taste homemade extra plus', 'get home see dry damn wing ever', 'regular stop trip phoenix', 'really enjoy crema caf   expand   even tell friend good breakfast', 'not good money', 'miss wish one philadelphia', 'got sit fairly fast     end wait     minute place order   another     minute food arrive', 'also good cheese crisp town', 'good value   great food   great service', 'ask satisfying meal', 'food good', 'awesome', 'want leave', 'make drive way north scottsdale     not one bit disappointed', 'not eat', '      owner really really need quit soooooo cheap let wrap freak sandwich two paper not one', 'check place couple year ago not impressed', 'chicken get definitely reheat ok   wedge cold soggy', 'sorry   not get food anytime soon   ', 'absolute must visit', 'cow tongue cheek taco amazing', 'friend not like bloody mary', 'despite hard rate business   actually rare give    star', 'really want make experience good one', 'not return', 'chicken pho taste bland', 'disappointing   ', 'grill chicken tender yellow saffron seasoning', 'drive thru mean not want wait around half hour food   somehow end go make we wait wait', 'pretty awesome place', 'ambience perfect', 'good luck rude non customer service focus new management', 'grandmother make roasted chicken well one', 'ask multiple time wine list time ignore go hostess get one', 'staff always super friendly helpful   especially cool bring two small boy baby', 'four star food    guy blue shirt great vibe    still let we eat  ', 'roast beef sandwich taste really good', 'evening   drastically sick', 'high quality chicken chicken caesar salad', 'order burger rare come do', 'promptly greet seat', 'try go lunch madhouse', 'prove dead wrong sushi bar   not quality great   service fast food   impeccable', 'wait hour seat   not great mood', 'good joint', 'macaron insanely good', 'not eat', 'waiter attentive   friendly   informative', 'maybe cold would somewhat edible', 'place lot promise fail deliver', 'bad experience', 'mistake', 'food average good', 'great food', 'go back anytime soon', 'disappointed order      big bay plater', 'great place relax awesome burger beer', 'perfect sit family meal get together friend', 'not much flavor   poorly construct', 'patio seating comfortable', 'fry rice dry well', 'hand favorite italian restaurant', 'scream   legit   book    somethat also pretty rare vegas', 'not fun experience', 'atmosphere great lovely duo violinist play song request', 'personally love hummus   pita   baklava   falafels baba ganoush   amazing eggplant   ', 'convenient   since stay mgm', 'owner super friendly staff courteous', 'great', 'eclectic selection', 'sweet potato tot good onion ring perfection close', 'staff attentive', 'chef generous time   even come around twice take picture  ', 'owner use work nobu   place really similar half price', 'google mediocre imagine smashburger pop', 'not go', 'promise disappoint', 'sushi lover avoid place mean', 'great double cheeseburger', 'awesome service food', 'fantastic neighborhood gem    ', 'wait go back', 'plantain bad ever taste', 'great place highly recommend', 'service slow not attentive', 'give    star   give    star', 'staff spend time talk', 'dessert   panna cotta amazing', 'good food   great atmosphere  ', 'damn good steak', 'total brunch fail', 'price reasonable   flavor spot   sauce home make   slaw not drench mayo', 'decor nice   piano music soundtrack pleasant', 'steak amazing    rge fillet relleno good seafood plate ever', 'good food    good service  ', 'absolutely amazing', 'probably back   honest', 'definitely back', 'sergeant pepper beef sandwich auju sauce excellent sandwich well', 'hawaiian breeze   mango magic   pineapple delight smoothie try far good', 'go lunch    service slow', 'much say place walk expect amazing   quickly disappointed', 'mortify', 'needless say   never back', 'anyways   food definitely not fill   price pay expect', 'chip come drip grease   mostly not edible', 'really impressed strip steak', 'go since       every meal awesome  ', 'server nice attentive serve staff', 'cashier friendly even bring food', 'work hospitality industry paradise valley refrain recommend cibo long', 'atmosphere fun', 'would not recommend other', 'service quick even   go   order like like', 'mean really   get famous fish chip terrible   ', 'say   mouth belly still quite pleased', 'not thing', '   thumb  ', 'read please go', 'love grill pizza   remind legit italian pizza', 'pro    large seating area   nice bar area   great simple drink menu   good brick oven pizza homemade dough', 'really nice atmosphere', 'tonight elk filet special    suck', 'one bite   hook', 'order old classic new dish go time sorely disappointed everything', 'cute   quaint   simple   honest', 'chicken deliciously seasoned perfect fry outside moist chicken inside', 'food great always   compliment chef', 'special thank dylan   recommendation order     yummy tummy', 'awesome selection beer', 'great food awesome service', 'one nice thing add gratuity bill since party large        expect tip', 'fly apple juice    fly        ', 'han nan chicken also tasty', 'service   think good', 'food barely lukewarm   must sit wait server bring we', 'ryan bar definitely one edinburgh establishment revisit', 'nice chinese restaurant', 'overall   like food service', 'also serve indian naan bread hummus spicy pine nut sauce world', 'probably never come back   recommend', 'friend pasta     also bad   barely touch', 'try airport experience tasty food speedy   friendly service', 'love decor chinese calligraphy wall paper', 'never anything complain', 'restaurant clean family restaurant feel', 'way fry', 'not sure long stand long enough begin feel awkwardly place', 'open sandwich   impressed   not good way', 'not back', 'warm feeling service feel like guest special treat', 'extensive menu provide lot option breakfast', 'always order vegetarian menu dinner   wide array option choose', 'watch price inflate   portion get small management attitude grow rapidly', 'wonderful lil tapas ambience make feel warm fuzzy inside', 'get enjoy seafood salad   fabulous vinegrette', 'wonton thin   not thick chewy   almost melt mouth', 'level    spicy perfect   spice whelm soup', 'sit right time server get go fantastic', 'main thing enjoy crowd old crowd   around mid   ', 'side town   definitely spot hit', 'wait     minute get drink long get    arepas', 'great place eat', 'jalapeno bacon soooo good', 'service poor nice', 'food good   service good   price good', 'place not clean food oh stale', 'chicken dish ok   beef like shoe leather', 'service beyond bad', 'happy    ', 'taste like dirt', 'one place phoenix would definately go back  ', 'block amazing', 'close house   low key   non fancy   affordable price   good food', '   hot    sour    egg flower soup absolutely    star', 'sashimi poor quality soggy tasteless', 'great time    family dinner sunday night', 'food not tasty   not say   real traditional hunan style  ', 'bother   slow service', 'flair bartender absolutely amazing', 'frozen margarita way sugary taste', 'good order twice', 'nutshell      restaraunt smell like combination dirty fish market sewer', 'girlfriend veal bad', 'unfortunately   not good', 'pretty satifying experience', 'join club get awesome offer via email', 'perfect someone     like beer ice cold   case   even cold', 'bland flavorless good way describe barely tepid meat', 'chain   fan   beat place easily', 'nachos must', 'not come back', 'many word say place   everything pretty well', 'staff super nice quick even crazy crowd downtown jury   lawyer   court staff', 'great atmosphere   friendly fast service', 'receive pita huge lot meat thumb', 'food arrive meh', 'pay        hot dog fry look like come kid meal wienerschnitzel not idea good meal', 'classic maine lobster roll fantastic', 'brother law work mall eat day   guess sick night', 'good go review place twice    herea tribute place tribute event hold last night', 'chip salsa really good   salsa fresh', 'place great              ', 'mediocre food', 'get inside impress place', 'super pissd', 'service super friendly', 'sad little vegetable overcooked', 'place nice surprise', 'golden crispy delicious', 'high hope place since burger cook charcoal grill   unfortunately taste fall flat   way flat', 'could eat bruschetta day devine', 'not single employee come see ok even need water refill finally serve we food', 'lastly   mozzarella stick   good thing order', 'first time ever come amazing experience   still tell people awesome duck', 'server negligent need make we feel unwelcome     would not suggest place', 'service terrible though', 'place overprice   not consistent boba   really overprice', 'pack  ', 'love place', 'say dessert yummy', 'food terrible', 'seasonal fruit fresh white peach puree', 'keep get bad bad officially do', 'place honestly blow', 'definitely would not eat', 'not waste money', 'love put food nice plastic container oppose cram little paper takeout box', 'cr pe delicate thin moist', 'awful service', 'ever go', 'food quality horrible', 'price think place would much rather go', 'service fair good', 'love sushi   find kabuki price   hip service', 'favor stay away dish', 'poor service', 'one table think food average worth wait', 'good service food ever   maria server good friendly make day', 'excellent', 'pay bill not tip feel server terrible job', 'lunch great experience', 'never bland food surprise consider article read focus much spice flavor', 'food way overpriced portion fuck small', 'recently try caballero back every week since', '    buck head   really expect well food', 'food come good pace', 'eat twice last visit   especially enjoy salmon salad', 'back', 'could not believe dirty oyster', 'place deserve star', 'would not recommend place', 'fact go round    star   awesome', 'disbelief   dish qualified bad version food ever taste', 'bad day not   low tolerance rude customer service people   job nice polite   wash dish otherwise  ', 'potato great biscuit', 'probably would not go', 'flavorful perfect amount heat', 'price reasonable service great', 'wife hate meal   coconut shrimp    friend really not enjoy meal   either', 'fella get huevos rancheros look appealing', 'go happy hour   great list wine', 'may say buffet pricey think get pay place get quite lot', 'probably come back', 'bad food service', 'place pretty good   nice little vibe restaurant', 'talk great customer service course back', 'hot dish not hot   cold dish close room temp watch staff prepare food bare hand   glove everything deep fry oil', 'love fry bean', 'always pleasure deal', 'plethora salad sandwich   everything try get seal approval', 'place awesome want something light healthy summer', 'sushi strip   place go', 'service great   even manager come help table', 'feel dining room college cooking course high class dining service slow good', 'start review two star   edit give one', 'bad sushi ever eat besides costco', 'excellent restaurant highlight great service   unique menu   beautiful setting', 'boyfriend sit bar completely delightful experience', 'weird vibe owner', 'hardly meat', 'well bagel grocery store', 'go place gyro', 'love owner chef   one authentic japanese cool dude', 'burger good   pizza use amazing doughy flavorless', 'find six inch long piece wire salsa', 'service terrible   food mediocre', 'definately enjoy', 'order albondigas soup    warm    taste like tomato soup frozen meatball', 'three different occasion ask well do medium well   three time get bloody piece meat plate', 'two bite refuse eat anymore', 'service extremely slow', '    minute wait   get table', 'seriously killer hot chai latte', 'allergy warning menu   waitress absolutely clue meal not contain peanut', 'boyfriend try mediterranean chicken salad fall love', 'rotate beer tap also highlight place', 'pricing bit concern mellow mushroom', 'bad thai ever', 'stay vegas must get breakfast least', 'want first say server great perfect service', 'pizza selection good', 'strawberry tea   good', 'highly unprofessional rude loyal patron', 'overall   great experience', 'spend money elsewhere', 'regular toasted bread equally satisfying occasional pat butter     mmmm    ', 'buffet bellagio far anticipate', 'drink weak   people', '  order not correct', 'also   feel like chip buy   not make house', 'disappointing dinner go elsewhere dessert', 'chip sal amazing                   ', 'return', 'new fav vegas buffet spot', 'seriously not believe owner many unexperienced employee run around like chicken head cut', '  sad', 'feel insult disrespect   could talk judge another human like', 'call steakhouse properly cook steak   understand', 'not impressed concept food', 'thing crazy guacamole like pur ed', 'really nothing postinos   hope experience well', 'get food poisoning buffet', 'bring fresh batch fry think yay something warm', 'hilarious   yummy christmas eve dinner remember big fail entire trip we', 'needless say   go back anytime soon', 'place disgusting', 'every time eat   see care teamwork professional degree', 'ri style calamari joke', 'however   much garlic fondue   barely edible', 'could barely stomach meal   complain business lunch', 'bad   lose heart finish', 'also take forever bring we check ask', 'one make scene restaurant get    definitely lose love one', 'disappointing experience', 'food par denny   say   not good', 'want wait mediocre food downright terrible service   place', 'waaaaaayyyyyyyyyy rate say', 'go back', 'place fairly clean food simply worth', 'place lack style  ', 'sangria half glass wine full       ridiculous', 'bother come', 'meat pretty dry   slice brisket pull pork', 'building seem pretty neat   bathroom pretty trippy   eat', 'equally awful', 'probably not hurry go back', 'slow seating even reservation', 'not good stretch imagination', 'cashew cream sauce bland vegetable undercooke', 'chipolte ranch dip sause tasteless   seem thin water heat', 'bit sweet   not really spicy enough   lack flavor', 'disappointed  ', 'place horrible way overpriced', 'maybe vegetarian fare   twice think average good', 'busy know', 'table outside also dirty lot time worker not always friendly helpful menu', 'ambiance not feel like buffet set   douchey indoor garden tea biscuit', 'con   spotty service', 'fry not hot   neither burger', 'come back cold', 'food come   disappointment ensue', 'real disappointment waiter', 'husband say rude     not even apologize bad food anything', 'reason eat would fill night binge drink get carb stomach', 'insult   profound deuchebaggery   go outside smoke break serve solidify', 'someone order two taco   think may part customer service ask combo ala cart', 'quite disappointed although blame need place door', 'rave review wait eat       disappointment', 'del taco pretty nasty avoid possible', 'not hard make decent hamburger', 'like', 'hell go back', 'get much well service pizza place next door service receive restaurant', 'know big deal place   back   ya  ', 'immediately say want talk manager not want talk guy shot fireball behind bar', 'ambiance much well', 'unfortunately   set we disapppointment entree', 'food good', 'server suck   wait   correction   server heimer suck', 'happen next pretty     put', 'bad cause know family own   really want like place', 'overpriced get', 'vomit bathroom mid lunch', 'keep look time soon become     minute   yet still food', 'place eat circumstance would ever return   top list', 'start tuna sashimi brownish color obviously fresh', 'food average', 'sure beat nacho movie would expect little bit come restaurant', '  ha long bay bit flop', 'problem charge         sandwich big subway sub   offer well amount vegetable  ', 'shrimp   unwrap   live      mile brushfire   literally ice cold', 'lack flavor   seem undercooked   dry', 'really impressive place close', 'would avoid place stay mirage', 'refrie bean come meal dry crusty food bland', 'spend money time place else', 'lady table next we find live green caterpillar salad', 'presentation food awful', 'tell disappointed', 'think food flavor texture lack', 'appetite instantly go', 'overall not impressed would not go back', 'whole experience underwhelme   think go ninja sushi next time', '  waste enough life   pour salt wound draw time take bring check']\n"
     ]
    }
   ],
   "source": [
    "#spacy\n",
    "corpus_spacy = []\n",
    "for i in ds['Review']:\n",
    "    review = re.sub('[^a-zA-z]',' ',i)\n",
    "    review = review.lower()\n",
    "    stwords = stopwords.words('english')\n",
    "    stwords.remove(\"not\")\n",
    "    review = eng(review)\n",
    "    review = [token.lemma_ for token in review if str(token) not in stwords]\n",
    "    review = ' '.join(review)\n",
    "    corpus_spacy.append(review)\n",
    "print(corpus_spacy)"
   ]
  },
  {
   "cell_type": "code",
   "execution_count": 5,
   "id": "00e469c6",
   "metadata": {},
   "outputs": [
    {
     "name": "stdout",
     "output_type": "stream",
     "text": [
      "1000 1000\n"
     ]
    }
   ],
   "source": [
    "print(len(corpus),len(corpus_spacy))"
   ]
  },
  {
   "cell_type": "code",
   "execution_count": 6,
   "id": "ce6ebc07",
   "metadata": {},
   "outputs": [],
   "source": [
    "#nltk\n",
    "cv = CountVectorizer()\n",
    "X = cv.fit_transform(corpus).toarray()\n",
    "y = ds.iloc[:,1].values"
   ]
  },
  {
   "cell_type": "code",
   "execution_count": 7,
   "id": "1aac1457",
   "metadata": {},
   "outputs": [
    {
     "data": {
      "text/plain": [
       "array([[0, 0, 0, ..., 0, 0, 0],\n",
       "       [0, 0, 0, ..., 0, 0, 0],\n",
       "       [0, 0, 0, ..., 0, 0, 0],\n",
       "       ...,\n",
       "       [0, 0, 0, ..., 0, 0, 0],\n",
       "       [0, 0, 0, ..., 0, 0, 0],\n",
       "       [0, 0, 0, ..., 0, 0, 0]])"
      ]
     },
     "execution_count": 7,
     "metadata": {},
     "output_type": "execute_result"
    }
   ],
   "source": [
    "X"
   ]
  },
  {
   "cell_type": "code",
   "execution_count": 8,
   "id": "12ee5648",
   "metadata": {},
   "outputs": [
    {
     "data": {
      "text/plain": [
       "array([1, 0, 0, 1, 1, 0, 0, 0, 1, 1, 1, 0, 0, 1, 0, 0, 1, 0, 0, 0, 0, 1,\n",
       "       1, 1, 1, 1, 0, 1, 0, 0, 1, 0, 1, 0, 1, 1, 1, 0, 1, 0, 1, 0, 0, 1,\n",
       "       0, 1, 0, 1, 1, 1, 1, 1, 1, 0, 1, 1, 0, 0, 1, 0, 0, 1, 1, 1, 1, 1,\n",
       "       1, 1, 0, 1, 1, 1, 0, 0, 0, 0, 0, 1, 1, 0, 0, 0, 0, 1, 0, 1, 0, 1,\n",
       "       1, 1, 0, 1, 0, 1, 0, 0, 1, 1, 0, 1, 1, 1, 1, 1, 1, 1, 1, 1, 1, 1,\n",
       "       0, 0, 1, 1, 1, 1, 0, 0, 0, 0, 0, 0, 1, 1, 1, 0, 0, 1, 0, 1, 0, 1,\n",
       "       1, 0, 1, 1, 1, 1, 0, 1, 0, 0, 0, 0, 1, 1, 0, 0, 0, 0, 1, 1, 0, 0,\n",
       "       1, 1, 1, 1, 1, 0, 0, 1, 1, 0, 1, 1, 1, 0, 0, 1, 0, 1, 1, 1, 1, 0,\n",
       "       0, 1, 1, 0, 0, 0, 0, 0, 1, 1, 0, 1, 1, 1, 1, 1, 0, 1, 0, 1, 0, 0,\n",
       "       1, 1, 1, 1, 0, 1, 1, 1, 0, 0, 0, 1, 0, 0, 1, 0, 1, 1, 0, 1, 0, 1,\n",
       "       0, 0, 0, 0, 0, 1, 1, 1, 0, 1, 1, 0, 1, 0, 1, 0, 0, 1, 0, 1, 0, 1,\n",
       "       0, 0, 0, 0, 1, 1, 1, 0, 1, 0, 1, 0, 1, 1, 1, 0, 1, 0, 1, 0, 1, 1,\n",
       "       1, 1, 0, 1, 1, 0, 1, 1, 1, 1, 1, 0, 1, 1, 0, 0, 1, 0, 0, 0, 1, 1,\n",
       "       0, 0, 1, 0, 0, 0, 1, 0, 1, 1, 0, 1, 0, 1, 1, 0, 0, 0, 1, 0, 0, 0,\n",
       "       1, 1, 1, 0, 1, 0, 1, 0, 0, 1, 1, 1, 0, 0, 1, 1, 1, 1, 1, 1, 0, 0,\n",
       "       0, 1, 1, 0, 1, 1, 0, 0, 1, 0, 0, 1, 1, 1, 0, 1, 1, 1, 1, 1, 0, 0,\n",
       "       1, 0, 1, 1, 0, 1, 1, 1, 0, 1, 1, 0, 1, 0, 0, 1, 1, 1, 0, 0, 1, 1,\n",
       "       0, 1, 0, 1, 0, 0, 0, 1, 1, 0, 0, 0, 1, 0, 0, 1, 1, 1, 1, 1, 1, 1,\n",
       "       0, 1, 1, 1, 0, 0, 0, 1, 1, 0, 1, 1, 1, 0, 1, 1, 0, 1, 0, 0, 0, 1,\n",
       "       1, 1, 1, 0, 0, 0, 0, 1, 1, 0, 0, 1, 0, 1, 1, 0, 1, 0, 1, 1, 1, 1,\n",
       "       0, 1, 1, 0, 1, 1, 0, 0, 1, 1, 0, 1, 0, 0, 0, 0, 1, 1, 1, 1, 0, 1,\n",
       "       1, 0, 1, 1, 0, 0, 1, 1, 1, 0, 1, 0, 0, 0, 1, 1, 1, 1, 0, 1, 0, 0,\n",
       "       1, 1, 1, 0, 0, 1, 1, 1, 0, 1, 1, 0, 1, 1, 1, 1, 1, 0, 1, 1, 1, 0,\n",
       "       0, 0, 0, 0, 1, 1, 1, 1, 1, 1, 0, 1, 0, 1, 1, 1, 0, 0, 1, 0, 0, 1,\n",
       "       1, 1, 1, 1, 1, 1, 0, 1, 0, 1, 0, 1, 1, 0, 1, 0, 0, 1, 1, 0, 0, 1,\n",
       "       1, 1, 1, 0, 0, 0, 0, 0, 1, 1, 0, 0, 1, 1, 1, 0, 0, 1, 0, 0, 0, 0,\n",
       "       0, 1, 1, 0, 0, 1, 1, 1, 0, 0, 0, 1, 0, 1, 1, 0, 1, 0, 1, 1, 1, 0,\n",
       "       0, 1, 0, 1, 1, 0, 1, 0, 1, 1, 1, 1, 1, 0, 1, 0, 0, 0, 0, 0, 1, 1,\n",
       "       0, 0, 1, 0, 0, 0, 1, 0, 1, 1, 0, 0, 0, 1, 1, 1, 0, 1, 0, 1, 0, 1,\n",
       "       0, 1, 1, 0, 1, 0, 0, 0, 0, 0, 1, 0, 0, 1, 1, 0, 1, 0, 1, 1, 1, 1,\n",
       "       1, 1, 1, 1, 1, 1, 1, 1, 1, 0, 0, 1, 0, 1, 1, 1, 1, 0, 1, 0, 1, 0,\n",
       "       1, 1, 1, 0, 1, 1, 1, 1, 1, 0, 1, 1, 1, 0, 0, 0, 0, 0, 0, 0, 1, 1,\n",
       "       1, 0, 1, 0, 1, 0, 1, 0, 1, 0, 1, 1, 1, 0, 1, 0, 1, 1, 1, 1, 1, 1,\n",
       "       1, 0, 1, 1, 0, 0, 1, 1, 1, 0, 0, 1, 1, 1, 1, 0, 0, 0, 0, 1, 1, 1,\n",
       "       0, 1, 1, 1, 1, 1, 0, 1, 0, 1, 1, 0, 1, 0, 0, 0, 1, 0, 1, 1, 1, 1,\n",
       "       0, 1, 0, 0, 1, 0, 1, 0, 0, 0, 1, 1, 1, 0, 0, 1, 0, 1, 1, 1, 1, 0,\n",
       "       0, 1, 0, 1, 1, 1, 0, 1, 0, 1, 0, 1, 1, 0, 1, 0, 1, 1, 0, 0, 0, 0,\n",
       "       1, 1, 0, 1, 0, 0, 0, 0, 1, 1, 0, 0, 0, 0, 0, 0, 0, 0, 0, 1, 1, 0,\n",
       "       1, 0, 0, 1, 0, 1, 1, 0, 0, 0, 0, 1, 0, 0, 1, 0, 1, 1, 0, 0, 1, 1,\n",
       "       0, 0, 1, 1, 0, 1, 1, 1, 1, 1, 1, 0, 0, 0, 1, 1, 0, 0, 0, 1, 1, 0,\n",
       "       0, 0, 1, 0, 0, 0, 0, 0, 1, 0, 1, 1, 0, 0, 1, 1, 1, 1, 0, 1, 0, 1,\n",
       "       0, 0, 0, 0, 0, 1, 0, 1, 0, 0, 0, 0, 0, 0, 0, 0, 0, 0, 0, 0, 1, 0,\n",
       "       0, 0, 0, 0, 0, 0, 0, 0, 0, 0, 0, 0, 0, 0, 0, 0, 0, 0, 0, 0, 0, 0,\n",
       "       0, 0, 0, 0, 0, 0, 0, 0, 0, 0, 0, 0, 0, 0, 0, 0, 0, 0, 0, 0, 0, 0,\n",
       "       0, 0, 0, 0, 0, 0, 0, 0, 0, 0, 0, 0, 0, 0, 0, 0, 0, 0, 0, 0, 0, 0,\n",
       "       0, 0, 0, 0, 0, 0, 0, 0, 0, 0])"
      ]
     },
     "execution_count": 8,
     "metadata": {},
     "output_type": "execute_result"
    }
   ],
   "source": [
    "y"
   ]
  },
  {
   "cell_type": "code",
   "execution_count": 9,
   "id": "15341c9b",
   "metadata": {},
   "outputs": [],
   "source": [
    "# cv.get_feature_names()"
   ]
  },
  {
   "cell_type": "code",
   "execution_count": 10,
   "id": "e3333428",
   "metadata": {},
   "outputs": [],
   "source": [
    "# len(cv.get_feature_names())"
   ]
  },
  {
   "cell_type": "code",
   "execution_count": 11,
   "id": "141b28aa",
   "metadata": {},
   "outputs": [],
   "source": [
    "X_train, X_test, y_train, y_test = train_test_split(X, y, test_size=0.20, random_state=42)"
   ]
  },
  {
   "cell_type": "code",
   "execution_count": 12,
   "id": "7b8293c6",
   "metadata": {},
   "outputs": [],
   "source": [
    "modelDataNltk = []"
   ]
  },
  {
   "cell_type": "code",
   "execution_count": 13,
   "id": "6854d991",
   "metadata": {},
   "outputs": [
    {
     "name": "stdout",
     "output_type": "stream",
     "text": [
      "Confusion Matrix:\n",
      " [[71 25]\n",
      " [27 77]]\n",
      "\n",
      "\n",
      "Accuracy is  74.0 %\n",
      "Precision is  0.75\n",
      "Recall is  0.74\n",
      "F1 Score is  0.75\n"
     ]
    }
   ],
   "source": [
    "#MultinomialNB\n",
    "classifier = MultinomialNB(alpha=0.1)\n",
    "classifier.fit(X_train, y_train)\n",
    "y_pred = classifier.predict(X_test)\n",
    "\n",
    "cm = confusion_matrix(y_test, y_pred)\n",
    "print (\"Confusion Matrix:\\n\",cm)\n",
    "score1 = accuracy_score(y_test,y_pred)\n",
    "score2 = precision_score(y_test,y_pred)\n",
    "score3= recall_score(y_test,y_pred)\n",
    "print(\"\\n\")\n",
    "print(\"Accuracy is \",round(score1*100,2),\"%\")\n",
    "print(\"Precision is \",round(score2,2))\n",
    "print(\"Recall is \",round(score3,2))\n",
    "\n",
    "# Calculate F1 score\n",
    "precision = score2\n",
    "recall = score3\n",
    "\n",
    "# Avoid division by zero\n",
    "if precision + recall == 0:\n",
    "    f1_score = 0\n",
    "else:\n",
    "    f1_score = 2 * (precision * recall) / (precision + recall)\n",
    "\n",
    "print(\"F1 Score is \", round(f1_score, 2))\n",
    "\n",
    "\n",
    "modelDataNltk.append({\"model_name\": \"MultinomialNB\",\n",
    "                                            \"Confusion Matrix\": cm,\n",
    "               \"accuracy\": round(score1*100,2),\n",
    "               \"precision\": round(score2,2),\n",
    "               \"recall\": round(score3,2),\n",
    "               \"f1-score\":round(f1_score, 2)\n",
    "              })"
   ]
  },
  {
   "cell_type": "code",
   "execution_count": 14,
   "id": "b05b526e",
   "metadata": {},
   "outputs": [
    {
     "name": "stdout",
     "output_type": "stream",
     "text": [
      "Confusion Matrix:\n",
      " [[70 26]\n",
      " [26 78]]\n",
      "\n",
      "\n",
      "Accuracy is  74.0 %\n",
      "Precision is  0.75\n",
      "Recall is  0.75\n",
      "F1 Score is  0.75\n"
     ]
    }
   ],
   "source": [
    "#BernoulliNB\n",
    "classifier = BernoulliNB(alpha=0.1)\n",
    "classifier.fit(X_train, y_train)\n",
    "y_pred = classifier.predict(X_test)\n",
    "\n",
    "cm = confusion_matrix(y_test, y_pred)\n",
    "print (\"Confusion Matrix:\\n\",cm)\n",
    "score1 = accuracy_score(y_test,y_pred)\n",
    "score2 = precision_score(y_test,y_pred)\n",
    "score3= recall_score(y_test,y_pred)\n",
    "print(\"\\n\")\n",
    "print(\"Accuracy is \",round(score1*100,2),\"%\")\n",
    "print(\"Precision is \",round(score2,2))\n",
    "print(\"Recall is \",round(score3,2))\n",
    "\n",
    "# Calculate F1 score\n",
    "precision = score2\n",
    "recall = score3\n",
    "\n",
    "# Avoid division by zero\n",
    "if precision + recall == 0:\n",
    "    f1_score = 0\n",
    "else:\n",
    "    f1_score = 2 * (precision * recall) / (precision + recall)\n",
    "\n",
    "print(\"F1 Score is \", round(f1_score, 2))\n",
    "\n",
    "\n",
    "modelDataNltk.append({\"model_name\": \"BernoulliNB\",\n",
    "                                            \"Confusion Matrix\": cm,\n",
    "               \"accuracy\": round(score1*100,2),\n",
    "               \"precision\": round(score2,2),\n",
    "               \"recall\": round(score3,2),\n",
    "               \"f1-score\":round(f1_score, 2)\n",
    "              })"
   ]
  },
  {
   "cell_type": "code",
   "execution_count": 15,
   "id": "514e440e",
   "metadata": {
    "scrolled": true
   },
   "outputs": [
    {
     "name": "stdout",
     "output_type": "stream",
     "text": [
      "Confusion Matrix:\n",
      " [[82 14]\n",
      " [31 73]]\n",
      "\n",
      "\n",
      "Accuracy is  77.5 %\n",
      "Precision is  0.84\n",
      "Recall is  0.7\n",
      "F1 Score is  0.76\n"
     ]
    }
   ],
   "source": [
    "#LogisticRegression\n",
    "classifier = LogisticRegression()\n",
    "classifier.fit(X_train, y_train)\n",
    "\n",
    "y_pred = classifier.predict(X_test)\n",
    "cm = confusion_matrix(y_test, y_pred)\n",
    "print (\"Confusion Matrix:\\n\",cm)\n",
    "\n",
    "\n",
    "score1 = accuracy_score(y_test,y_pred)\n",
    "score2 = precision_score(y_test,y_pred)\n",
    "score3= recall_score(y_test,y_pred)\n",
    "print(\"\\n\")\n",
    "print(\"Accuracy is \",round(score1*100,2),\"%\")\n",
    "print(\"Precision is \",round(score2,2))\n",
    "print(\"Recall is \",round(score3,2))\n",
    "\n",
    "# Calculate F1 score\n",
    "precision = score2\n",
    "recall = score3\n",
    "\n",
    "# Avoid division by zero\n",
    "if precision + recall == 0:\n",
    "    f1_score = 0\n",
    "else:\n",
    "    f1_score = 2 * (precision * recall) / (precision + recall)\n",
    "\n",
    "print(\"F1 Score is \", round(f1_score, 2))\n",
    "\n",
    "\n",
    "modelDataNltk.append({\"model_name\": \"LogisticRegression\",\n",
    "                      \"Confusion Matrix\": cm,\n",
    "               \"accuracy\": round(score1*100,2),\n",
    "               \"precision\": round(score2,2),\n",
    "               \"recall\": round(score3,2),\n",
    "               \"f1-score\":round(f1_score, 2)\n",
    "              })"
   ]
  },
  {
   "cell_type": "markdown",
   "id": "b232c09e",
   "metadata": {},
   "source": [
    "## ============================================="
   ]
  },
  {
   "cell_type": "code",
   "execution_count": 16,
   "id": "d2e2c520",
   "metadata": {},
   "outputs": [],
   "source": [
    "modelDataSpacy = []"
   ]
  },
  {
   "cell_type": "code",
   "execution_count": 17,
   "id": "9b6913fa",
   "metadata": {},
   "outputs": [],
   "source": [
    "#spacy\n",
    "cv = CountVectorizer()\n",
    "X = cv.fit_transform(corpus_spacy).toarray()\n",
    "y = ds.iloc[:,1].values"
   ]
  },
  {
   "cell_type": "code",
   "execution_count": 18,
   "id": "8d4db6e8",
   "metadata": {},
   "outputs": [
    {
     "data": {
      "text/plain": [
       "(array([[0, 0, 0, ..., 0, 0, 0],\n",
       "        [0, 0, 0, ..., 0, 0, 0],\n",
       "        [0, 0, 0, ..., 0, 0, 0],\n",
       "        ...,\n",
       "        [0, 0, 0, ..., 0, 0, 0],\n",
       "        [0, 0, 0, ..., 0, 0, 0],\n",
       "        [0, 0, 0, ..., 0, 0, 0]]),\n",
       " array([1, 0, 0, 1, 1, 0, 0, 0, 1, 1, 1, 0, 0, 1, 0, 0, 1, 0, 0, 0, 0, 1,\n",
       "        1, 1, 1, 1, 0, 1, 0, 0, 1, 0, 1, 0, 1, 1, 1, 0, 1, 0, 1, 0, 0, 1,\n",
       "        0, 1, 0, 1, 1, 1, 1, 1, 1, 0, 1, 1, 0, 0, 1, 0, 0, 1, 1, 1, 1, 1,\n",
       "        1, 1, 0, 1, 1, 1, 0, 0, 0, 0, 0, 1, 1, 0, 0, 0, 0, 1, 0, 1, 0, 1,\n",
       "        1, 1, 0, 1, 0, 1, 0, 0, 1, 1, 0, 1, 1, 1, 1, 1, 1, 1, 1, 1, 1, 1,\n",
       "        0, 0, 1, 1, 1, 1, 0, 0, 0, 0, 0, 0, 1, 1, 1, 0, 0, 1, 0, 1, 0, 1,\n",
       "        1, 0, 1, 1, 1, 1, 0, 1, 0, 0, 0, 0, 1, 1, 0, 0, 0, 0, 1, 1, 0, 0,\n",
       "        1, 1, 1, 1, 1, 0, 0, 1, 1, 0, 1, 1, 1, 0, 0, 1, 0, 1, 1, 1, 1, 0,\n",
       "        0, 1, 1, 0, 0, 0, 0, 0, 1, 1, 0, 1, 1, 1, 1, 1, 0, 1, 0, 1, 0, 0,\n",
       "        1, 1, 1, 1, 0, 1, 1, 1, 0, 0, 0, 1, 0, 0, 1, 0, 1, 1, 0, 1, 0, 1,\n",
       "        0, 0, 0, 0, 0, 1, 1, 1, 0, 1, 1, 0, 1, 0, 1, 0, 0, 1, 0, 1, 0, 1,\n",
       "        0, 0, 0, 0, 1, 1, 1, 0, 1, 0, 1, 0, 1, 1, 1, 0, 1, 0, 1, 0, 1, 1,\n",
       "        1, 1, 0, 1, 1, 0, 1, 1, 1, 1, 1, 0, 1, 1, 0, 0, 1, 0, 0, 0, 1, 1,\n",
       "        0, 0, 1, 0, 0, 0, 1, 0, 1, 1, 0, 1, 0, 1, 1, 0, 0, 0, 1, 0, 0, 0,\n",
       "        1, 1, 1, 0, 1, 0, 1, 0, 0, 1, 1, 1, 0, 0, 1, 1, 1, 1, 1, 1, 0, 0,\n",
       "        0, 1, 1, 0, 1, 1, 0, 0, 1, 0, 0, 1, 1, 1, 0, 1, 1, 1, 1, 1, 0, 0,\n",
       "        1, 0, 1, 1, 0, 1, 1, 1, 0, 1, 1, 0, 1, 0, 0, 1, 1, 1, 0, 0, 1, 1,\n",
       "        0, 1, 0, 1, 0, 0, 0, 1, 1, 0, 0, 0, 1, 0, 0, 1, 1, 1, 1, 1, 1, 1,\n",
       "        0, 1, 1, 1, 0, 0, 0, 1, 1, 0, 1, 1, 1, 0, 1, 1, 0, 1, 0, 0, 0, 1,\n",
       "        1, 1, 1, 0, 0, 0, 0, 1, 1, 0, 0, 1, 0, 1, 1, 0, 1, 0, 1, 1, 1, 1,\n",
       "        0, 1, 1, 0, 1, 1, 0, 0, 1, 1, 0, 1, 0, 0, 0, 0, 1, 1, 1, 1, 0, 1,\n",
       "        1, 0, 1, 1, 0, 0, 1, 1, 1, 0, 1, 0, 0, 0, 1, 1, 1, 1, 0, 1, 0, 0,\n",
       "        1, 1, 1, 0, 0, 1, 1, 1, 0, 1, 1, 0, 1, 1, 1, 1, 1, 0, 1, 1, 1, 0,\n",
       "        0, 0, 0, 0, 1, 1, 1, 1, 1, 1, 0, 1, 0, 1, 1, 1, 0, 0, 1, 0, 0, 1,\n",
       "        1, 1, 1, 1, 1, 1, 0, 1, 0, 1, 0, 1, 1, 0, 1, 0, 0, 1, 1, 0, 0, 1,\n",
       "        1, 1, 1, 0, 0, 0, 0, 0, 1, 1, 0, 0, 1, 1, 1, 0, 0, 1, 0, 0, 0, 0,\n",
       "        0, 1, 1, 0, 0, 1, 1, 1, 0, 0, 0, 1, 0, 1, 1, 0, 1, 0, 1, 1, 1, 0,\n",
       "        0, 1, 0, 1, 1, 0, 1, 0, 1, 1, 1, 1, 1, 0, 1, 0, 0, 0, 0, 0, 1, 1,\n",
       "        0, 0, 1, 0, 0, 0, 1, 0, 1, 1, 0, 0, 0, 1, 1, 1, 0, 1, 0, 1, 0, 1,\n",
       "        0, 1, 1, 0, 1, 0, 0, 0, 0, 0, 1, 0, 0, 1, 1, 0, 1, 0, 1, 1, 1, 1,\n",
       "        1, 1, 1, 1, 1, 1, 1, 1, 1, 0, 0, 1, 0, 1, 1, 1, 1, 0, 1, 0, 1, 0,\n",
       "        1, 1, 1, 0, 1, 1, 1, 1, 1, 0, 1, 1, 1, 0, 0, 0, 0, 0, 0, 0, 1, 1,\n",
       "        1, 0, 1, 0, 1, 0, 1, 0, 1, 0, 1, 1, 1, 0, 1, 0, 1, 1, 1, 1, 1, 1,\n",
       "        1, 0, 1, 1, 0, 0, 1, 1, 1, 0, 0, 1, 1, 1, 1, 0, 0, 0, 0, 1, 1, 1,\n",
       "        0, 1, 1, 1, 1, 1, 0, 1, 0, 1, 1, 0, 1, 0, 0, 0, 1, 0, 1, 1, 1, 1,\n",
       "        0, 1, 0, 0, 1, 0, 1, 0, 0, 0, 1, 1, 1, 0, 0, 1, 0, 1, 1, 1, 1, 0,\n",
       "        0, 1, 0, 1, 1, 1, 0, 1, 0, 1, 0, 1, 1, 0, 1, 0, 1, 1, 0, 0, 0, 0,\n",
       "        1, 1, 0, 1, 0, 0, 0, 0, 1, 1, 0, 0, 0, 0, 0, 0, 0, 0, 0, 1, 1, 0,\n",
       "        1, 0, 0, 1, 0, 1, 1, 0, 0, 0, 0, 1, 0, 0, 1, 0, 1, 1, 0, 0, 1, 1,\n",
       "        0, 0, 1, 1, 0, 1, 1, 1, 1, 1, 1, 0, 0, 0, 1, 1, 0, 0, 0, 1, 1, 0,\n",
       "        0, 0, 1, 0, 0, 0, 0, 0, 1, 0, 1, 1, 0, 0, 1, 1, 1, 1, 0, 1, 0, 1,\n",
       "        0, 0, 0, 0, 0, 1, 0, 1, 0, 0, 0, 0, 0, 0, 0, 0, 0, 0, 0, 0, 1, 0,\n",
       "        0, 0, 0, 0, 0, 0, 0, 0, 0, 0, 0, 0, 0, 0, 0, 0, 0, 0, 0, 0, 0, 0,\n",
       "        0, 0, 0, 0, 0, 0, 0, 0, 0, 0, 0, 0, 0, 0, 0, 0, 0, 0, 0, 0, 0, 0,\n",
       "        0, 0, 0, 0, 0, 0, 0, 0, 0, 0, 0, 0, 0, 0, 0, 0, 0, 0, 0, 0, 0, 0,\n",
       "        0, 0, 0, 0, 0, 0, 0, 0, 0, 0]))"
      ]
     },
     "execution_count": 18,
     "metadata": {},
     "output_type": "execute_result"
    }
   ],
   "source": [
    "X,y"
   ]
  },
  {
   "cell_type": "code",
   "execution_count": 19,
   "id": "4e3840f3",
   "metadata": {},
   "outputs": [],
   "source": [
    "# cv.get_feature_names()"
   ]
  },
  {
   "cell_type": "code",
   "execution_count": 20,
   "id": "d8ace9e9",
   "metadata": {},
   "outputs": [],
   "source": [
    "# len(cv.get_feature_names())"
   ]
  },
  {
   "cell_type": "code",
   "execution_count": 21,
   "id": "afd232d1",
   "metadata": {},
   "outputs": [],
   "source": [
    "X_train, X_test, y_train, y_test = train_test_split(X, y, test_size=0.20, random_state=42)"
   ]
  },
  {
   "cell_type": "code",
   "execution_count": 22,
   "id": "90c8aace",
   "metadata": {},
   "outputs": [
    {
     "name": "stdout",
     "output_type": "stream",
     "text": [
      "Confusion Matrix:\n",
      " [[75 21]\n",
      " [25 79]]\n",
      "\n",
      "\n",
      "Accuracy is  77.0 %\n",
      "Precision is  0.79\n",
      "Recall is  0.76\n",
      "F1 Score is  0.77\n"
     ]
    }
   ],
   "source": [
    "#MultinomialNB\n",
    "classifier = MultinomialNB(alpha=0.1)\n",
    "classifier.fit(X_train, y_train)\n",
    "y_pred = classifier.predict(X_test)\n",
    "\n",
    "cm = confusion_matrix(y_test, y_pred)\n",
    "print (\"Confusion Matrix:\\n\",cm)\n",
    "score1 = accuracy_score(y_test,y_pred)\n",
    "score2 = precision_score(y_test,y_pred)\n",
    "score3= recall_score(y_test,y_pred)\n",
    "print(\"\\n\")\n",
    "print(\"Accuracy is \",round(score1*100,2),\"%\")\n",
    "print(\"Precision is \",round(score2,2))\n",
    "print(\"Recall is \",round(score3,2))\n",
    "\n",
    "# Calculate F1 score\n",
    "precision = score2\n",
    "recall = score3\n",
    "\n",
    "# Avoid division by zero\n",
    "if precision + recall == 0:\n",
    "    f1_score = 0\n",
    "else:\n",
    "    f1_score = 2 * (precision * recall) / (precision + recall)\n",
    "\n",
    "print(\"F1 Score is \", round(f1_score, 2))\n",
    "\n",
    "\n",
    "modelDataSpacy.append({\"model_name\": \"MultinomialNB\",\n",
    "                                             \"Confusion Matrix\": cm,\n",
    "               \"accuracy\": round(score1*100,2),\n",
    "               \"precision\": round(score2,2),\n",
    "               \"recall\": round(score3,2),\n",
    "               \"f1-score\":round(f1_score, 2)\n",
    "              })"
   ]
  },
  {
   "cell_type": "code",
   "execution_count": 23,
   "id": "3616f4e9",
   "metadata": {},
   "outputs": [
    {
     "name": "stdout",
     "output_type": "stream",
     "text": [
      "Confusion Matrix:\n",
      " [[73 23]\n",
      " [25 79]]\n",
      "\n",
      "\n",
      "Accuracy is  76.0 %\n",
      "Precision is  0.77\n",
      "Recall is  0.76\n",
      "F1 Score is  0.77\n"
     ]
    }
   ],
   "source": [
    "#BernoulliNB\n",
    "classifier = BernoulliNB(alpha=0.1)\n",
    "classifier.fit(X_train, y_train)\n",
    "y_pred = classifier.predict(X_test)\n",
    "\n",
    "cm = confusion_matrix(y_test, y_pred)\n",
    "print (\"Confusion Matrix:\\n\",cm)\n",
    "score1 = accuracy_score(y_test,y_pred)\n",
    "score2 = precision_score(y_test,y_pred)\n",
    "score3= recall_score(y_test,y_pred)\n",
    "print(\"\\n\")\n",
    "print(\"Accuracy is \",round(score1*100,2),\"%\")\n",
    "print(\"Precision is \",round(score2,2))\n",
    "print(\"Recall is \",round(score3,2))\n",
    "\n",
    "# Calculate F1 score\n",
    "precision = score2\n",
    "recall = score3\n",
    "\n",
    "# Avoid division by zero\n",
    "if precision + recall == 0:\n",
    "    f1_score = 0\n",
    "else:\n",
    "    f1_score = 2 * (precision * recall) / (precision + recall)\n",
    "\n",
    "print(\"F1 Score is \", round(f1_score, 2))\n",
    "\n",
    "\n",
    "modelDataSpacy.append({\"model_name\": \"BernoulliNB\",\n",
    "                                             \"Confusion Matrix\": cm,\n",
    "               \"accuracy\": round(score1*100,2),\n",
    "               \"precision\": round(score2,2),\n",
    "               \"recall\": round(score3,2),\n",
    "               \"f1-score\":round(f1_score, 2)\n",
    "              })"
   ]
  },
  {
   "cell_type": "code",
   "execution_count": 24,
   "id": "33932970",
   "metadata": {},
   "outputs": [
    {
     "name": "stdout",
     "output_type": "stream",
     "text": [
      "Confusion Matrix:\n",
      " [[82 14]\n",
      " [30 74]]\n",
      "\n",
      "\n",
      "Accuracy is  78.0 %\n",
      "Precision is  0.84\n",
      "Recall is  0.71\n",
      "F1 Score is  0.77\n"
     ]
    }
   ],
   "source": [
    "#LogisticRegression\n",
    "classifier = LogisticRegression()\n",
    "classifier.fit(X_train, y_train)\n",
    "\n",
    "y_pred = classifier.predict(X_test)\n",
    "cm = confusion_matrix(y_test, y_pred)\n",
    "print (\"Confusion Matrix:\\n\",cm)\n",
    "\n",
    "score1 = accuracy_score(y_test,y_pred)\n",
    "score2 = precision_score(y_test,y_pred)\n",
    "score3= recall_score(y_test,y_pred)\n",
    "print(\"\\n\")\n",
    "print(\"Accuracy is \",round(score1*100,2),\"%\")\n",
    "print(\"Precision is \",round(score2,2))\n",
    "print(\"Recall is \",round(score3,2))\n",
    "\n",
    "# Calculate F1 score\n",
    "precision = score2\n",
    "recall = score3\n",
    "\n",
    "# Avoid division by zero\n",
    "if precision + recall == 0:\n",
    "    f1_score = 0\n",
    "else:\n",
    "    f1_score = 2 * (precision * recall) / (precision + recall)\n",
    "\n",
    "print(\"F1 Score is \", round(f1_score, 2))\n",
    "\n",
    "\n",
    "modelDataSpacy.append({\"model_name\": \"LogisticRegression\",\n",
    "                                             \"Confusion Matrix\": cm,\n",
    "               \"accuracy\": round(score1*100,2),\n",
    "               \"precision\": round(score2,2),\n",
    "               \"recall\": round(score3,2),\n",
    "               \"f1-score\":round(f1_score, 2)\n",
    "              })"
   ]
  },
  {
   "cell_type": "markdown",
   "id": "a93b6651",
   "metadata": {},
   "source": [
    "## ======================================================="
   ]
  },
  {
   "cell_type": "code",
   "execution_count": 25,
   "id": "81a18a4f",
   "metadata": {},
   "outputs": [
    {
     "data": {
      "text/plain": [
       "[{'model_name': 'MultinomialNB',\n",
       "  'Confusion Matrix': array([[71, 25],\n",
       "         [27, 77]]),\n",
       "  'accuracy': 74.0,\n",
       "  'precision': 0.75,\n",
       "  'recall': 0.74,\n",
       "  'f1-score': 0.75},\n",
       " {'model_name': 'BernoulliNB',\n",
       "  'Confusion Matrix': array([[70, 26],\n",
       "         [26, 78]]),\n",
       "  'accuracy': 74.0,\n",
       "  'precision': 0.75,\n",
       "  'recall': 0.75,\n",
       "  'f1-score': 0.75},\n",
       " {'model_name': 'LogisticRegression',\n",
       "  'Confusion Matrix': array([[82, 14],\n",
       "         [31, 73]]),\n",
       "  'accuracy': 77.5,\n",
       "  'precision': 0.84,\n",
       "  'recall': 0.7,\n",
       "  'f1-score': 0.76}]"
      ]
     },
     "execution_count": 25,
     "metadata": {},
     "output_type": "execute_result"
    }
   ],
   "source": [
    "modelDataNltk"
   ]
  },
  {
   "cell_type": "code",
   "execution_count": 26,
   "id": "c18f152a",
   "metadata": {},
   "outputs": [
    {
     "data": {
      "text/plain": [
       "[{'model_name': 'MultinomialNB',\n",
       "  'Confusion Matrix': array([[75, 21],\n",
       "         [25, 79]]),\n",
       "  'accuracy': 77.0,\n",
       "  'precision': 0.79,\n",
       "  'recall': 0.76,\n",
       "  'f1-score': 0.77},\n",
       " {'model_name': 'BernoulliNB',\n",
       "  'Confusion Matrix': array([[73, 23],\n",
       "         [25, 79]]),\n",
       "  'accuracy': 76.0,\n",
       "  'precision': 0.77,\n",
       "  'recall': 0.76,\n",
       "  'f1-score': 0.77},\n",
       " {'model_name': 'LogisticRegression',\n",
       "  'Confusion Matrix': array([[82, 14],\n",
       "         [30, 74]]),\n",
       "  'accuracy': 78.0,\n",
       "  'precision': 0.84,\n",
       "  'recall': 0.71,\n",
       "  'f1-score': 0.77}]"
      ]
     },
     "execution_count": 26,
     "metadata": {},
     "output_type": "execute_result"
    }
   ],
   "source": [
    "modelDataSpacy"
   ]
  },
  {
   "cell_type": "code",
   "execution_count": 27,
   "id": "cbb56d37",
   "metadata": {},
   "outputs": [
    {
     "data": {
      "text/html": [
       "<div>\n",
       "<style scoped>\n",
       "    .dataframe tbody tr th:only-of-type {\n",
       "        vertical-align: middle;\n",
       "    }\n",
       "\n",
       "    .dataframe tbody tr th {\n",
       "        vertical-align: top;\n",
       "    }\n",
       "\n",
       "    .dataframe thead th {\n",
       "        text-align: right;\n",
       "    }\n",
       "</style>\n",
       "<table border=\"1\" class=\"dataframe\">\n",
       "  <thead>\n",
       "    <tr style=\"text-align: right;\">\n",
       "      <th></th>\n",
       "      <th>model_name</th>\n",
       "      <th>Confusion Matrix</th>\n",
       "      <th>accuracy</th>\n",
       "      <th>precision</th>\n",
       "      <th>recall</th>\n",
       "      <th>f1-score</th>\n",
       "    </tr>\n",
       "  </thead>\n",
       "  <tbody>\n",
       "    <tr>\n",
       "      <th>0</th>\n",
       "      <td>MultinomialNB</td>\n",
       "      <td>[[71, 25], [27, 77]]</td>\n",
       "      <td>74.0</td>\n",
       "      <td>0.75</td>\n",
       "      <td>0.74</td>\n",
       "      <td>0.75</td>\n",
       "    </tr>\n",
       "    <tr>\n",
       "      <th>1</th>\n",
       "      <td>BernoulliNB</td>\n",
       "      <td>[[70, 26], [26, 78]]</td>\n",
       "      <td>74.0</td>\n",
       "      <td>0.75</td>\n",
       "      <td>0.75</td>\n",
       "      <td>0.75</td>\n",
       "    </tr>\n",
       "    <tr>\n",
       "      <th>2</th>\n",
       "      <td>LogisticRegression</td>\n",
       "      <td>[[82, 14], [31, 73]]</td>\n",
       "      <td>77.5</td>\n",
       "      <td>0.84</td>\n",
       "      <td>0.70</td>\n",
       "      <td>0.76</td>\n",
       "    </tr>\n",
       "  </tbody>\n",
       "</table>\n",
       "</div>"
      ],
      "text/plain": [
       "           model_name      Confusion Matrix  accuracy  precision  recall  \\\n",
       "0       MultinomialNB  [[71, 25], [27, 77]]      74.0       0.75    0.74   \n",
       "1         BernoulliNB  [[70, 26], [26, 78]]      74.0       0.75    0.75   \n",
       "2  LogisticRegression  [[82, 14], [31, 73]]      77.5       0.84    0.70   \n",
       "\n",
       "   f1-score  \n",
       "0      0.75  \n",
       "1      0.75  \n",
       "2      0.76  "
      ]
     },
     "execution_count": 27,
     "metadata": {},
     "output_type": "execute_result"
    }
   ],
   "source": [
    "# modelDataNltk\n",
    "# Create a DataFrame\n",
    "modelDataNltkDF = pd.DataFrame(modelDataNltk)\n",
    "\n",
    "# Display the DataFrame\n",
    "modelDataNltkDF"
   ]
  },
  {
   "cell_type": "code",
   "execution_count": 28,
   "id": "ef171c12",
   "metadata": {},
   "outputs": [
    {
     "data": {
      "text/html": [
       "<div>\n",
       "<style scoped>\n",
       "    .dataframe tbody tr th:only-of-type {\n",
       "        vertical-align: middle;\n",
       "    }\n",
       "\n",
       "    .dataframe tbody tr th {\n",
       "        vertical-align: top;\n",
       "    }\n",
       "\n",
       "    .dataframe thead th {\n",
       "        text-align: right;\n",
       "    }\n",
       "</style>\n",
       "<table border=\"1\" class=\"dataframe\">\n",
       "  <thead>\n",
       "    <tr style=\"text-align: right;\">\n",
       "      <th></th>\n",
       "      <th>model_name</th>\n",
       "      <th>Confusion Matrix</th>\n",
       "      <th>accuracy</th>\n",
       "      <th>precision</th>\n",
       "      <th>recall</th>\n",
       "      <th>f1-score</th>\n",
       "    </tr>\n",
       "  </thead>\n",
       "  <tbody>\n",
       "    <tr>\n",
       "      <th>0</th>\n",
       "      <td>MultinomialNB</td>\n",
       "      <td>[[75, 21], [25, 79]]</td>\n",
       "      <td>77.0</td>\n",
       "      <td>0.79</td>\n",
       "      <td>0.76</td>\n",
       "      <td>0.77</td>\n",
       "    </tr>\n",
       "    <tr>\n",
       "      <th>1</th>\n",
       "      <td>BernoulliNB</td>\n",
       "      <td>[[73, 23], [25, 79]]</td>\n",
       "      <td>76.0</td>\n",
       "      <td>0.77</td>\n",
       "      <td>0.76</td>\n",
       "      <td>0.77</td>\n",
       "    </tr>\n",
       "    <tr>\n",
       "      <th>2</th>\n",
       "      <td>LogisticRegression</td>\n",
       "      <td>[[82, 14], [30, 74]]</td>\n",
       "      <td>78.0</td>\n",
       "      <td>0.84</td>\n",
       "      <td>0.71</td>\n",
       "      <td>0.77</td>\n",
       "    </tr>\n",
       "  </tbody>\n",
       "</table>\n",
       "</div>"
      ],
      "text/plain": [
       "           model_name      Confusion Matrix  accuracy  precision  recall  \\\n",
       "0       MultinomialNB  [[75, 21], [25, 79]]      77.0       0.79    0.76   \n",
       "1         BernoulliNB  [[73, 23], [25, 79]]      76.0       0.77    0.76   \n",
       "2  LogisticRegression  [[82, 14], [30, 74]]      78.0       0.84    0.71   \n",
       "\n",
       "   f1-score  \n",
       "0      0.77  \n",
       "1      0.77  \n",
       "2      0.77  "
      ]
     },
     "execution_count": 28,
     "metadata": {},
     "output_type": "execute_result"
    }
   ],
   "source": [
    "# modelDataSpacy\n",
    "# Create a DataFrame\n",
    "modelDataSpacyDF = pd.DataFrame(modelDataSpacy)\n",
    "\n",
    "# Display the DataFrame\n",
    "modelDataSpacyDF"
   ]
  },
  {
   "cell_type": "code",
   "execution_count": null,
   "id": "b7e23c86",
   "metadata": {},
   "outputs": [],
   "source": []
  }
 ],
 "metadata": {
  "kernelspec": {
   "display_name": "Python 3 (ipykernel)",
   "language": "python",
   "name": "python3"
  },
  "language_info": {
   "codemirror_mode": {
    "name": "ipython",
    "version": 3
   },
   "file_extension": ".py",
   "mimetype": "text/x-python",
   "name": "python",
   "nbconvert_exporter": "python",
   "pygments_lexer": "ipython3",
   "version": "3.11.5"
  }
 },
 "nbformat": 4,
 "nbformat_minor": 5
}
