{
 "cells": [
  {
   "cell_type": "code",
   "execution_count": 2,
   "id": "6743865b",
   "metadata": {
    "scrolled": true
   },
   "outputs": [
    {
     "name": "stderr",
     "output_type": "stream",
     "text": [
      "[nltk_data] Error loading stopwords: <urlopen error [Errno -3]\n",
      "[nltk_data]     Temporary failure in name resolution>\n"
     ]
    }
   ],
   "source": [
    "import pandas as pd\n",
    "import nltk\n",
    "import re\n",
    "import spacy\n",
    "\n",
    "# from tabulate import tabulate\n",
    "\n",
    "nltk.download('stopwords')\n",
    "from nltk.corpus import stopwords\n",
    "from nltk.stem.porter import PorterStemmer\n",
    "from sklearn.feature_extraction.text import CountVectorizer\n",
    "from sklearn.model_selection import train_test_split\n",
    "from sklearn.naive_bayes import MultinomialNB\n",
    "from sklearn.naive_bayes import BernoulliNB\n",
    "from sklearn.linear_model import LogisticRegression\n",
    "from sklearn.metrics import confusion_matrix\n",
    "from sklearn.metrics import accuracy_score\n",
    "from sklearn.metrics import precision_score\n",
    "from sklearn.metrics import recall_score\n",
    "eng = spacy.load('en_core_web_lg')"
   ]
  },
  {
   "cell_type": "code",
   "execution_count": null,
   "id": "f8e115dd",
   "metadata": {},
   "outputs": [],
   "source": [
    "ds = pd.read_csv('Restaurant_Reviews.tsv',delimiter='\\t')\n",
    "ds.head()"
   ]
  },
  {
   "cell_type": "code",
   "execution_count": null,
   "id": "04937731",
   "metadata": {},
   "outputs": [],
   "source": [
    "#nltk\n",
    "corpus = []\n",
    "for i in ds['Review']:\n",
    "    review = re.sub('[^a-zA-z]',' ',i)\n",
    "    review = review.lower()\n",
    "    review = review.split()\n",
    "    ps = PorterStemmer()\n",
    "    stwords = stopwords.words('english')\n",
    "    stwords.remove(\"not\")\n",
    "    review = [ps.stem(word) for word in review if word not in stwords]\n",
    "    review = ' '.join(review)\n",
    "    corpus.append(review)\n",
    "print(corpus)"
   ]
  },
  {
   "cell_type": "code",
   "execution_count": null,
   "id": "8b8a6970",
   "metadata": {},
   "outputs": [],
   "source": [
    "#spacy\n",
    "corpus_spacy = []\n",
    "for i in ds['Review']:\n",
    "    review = re.sub('[^a-zA-z]',' ',i)\n",
    "    review = review.lower()\n",
    "    stwords = stopwords.words('english')\n",
    "    stwords.remove(\"not\")\n",
    "    review = eng(review)\n",
    "    review = [token.lemma_ for token in review if str(token) not in stwords]\n",
    "    review = ' '.join(review)\n",
    "    corpus_spacy.append(review)\n",
    "print(corpus_spacy)"
   ]
  },
  {
   "cell_type": "code",
   "execution_count": null,
   "id": "00e469c6",
   "metadata": {},
   "outputs": [],
   "source": [
    "print(len(corpus),len(corpus_spacy))"
   ]
  },
  {
   "cell_type": "code",
   "execution_count": null,
   "id": "ce6ebc07",
   "metadata": {},
   "outputs": [],
   "source": [
    "#nltk\n",
    "cv = CountVectorizer()\n",
    "X = cv.fit_transform(corpus).toarray()\n",
    "y = ds.iloc[:,1].values"
   ]
  },
  {
   "cell_type": "code",
   "execution_count": null,
   "id": "1aac1457",
   "metadata": {},
   "outputs": [],
   "source": [
    "X"
   ]
  },
  {
   "cell_type": "code",
   "execution_count": null,
   "id": "12ee5648",
   "metadata": {},
   "outputs": [],
   "source": [
    "y"
   ]
  },
  {
   "cell_type": "code",
   "execution_count": null,
   "id": "15341c9b",
   "metadata": {},
   "outputs": [],
   "source": [
    "# cv.get_feature_names()"
   ]
  },
  {
   "cell_type": "code",
   "execution_count": null,
   "id": "e3333428",
   "metadata": {},
   "outputs": [],
   "source": [
    "# len(cv.get_feature_names())"
   ]
  },
  {
   "cell_type": "code",
   "execution_count": null,
   "id": "141b28aa",
   "metadata": {},
   "outputs": [],
   "source": [
    "X_train, X_test, y_train, y_test = train_test_split(X, y, test_size=0.20, random_state=42)"
   ]
  },
  {
   "cell_type": "code",
   "execution_count": null,
   "id": "7b8293c6",
   "metadata": {},
   "outputs": [],
   "source": [
    "modelDataNltk = []"
   ]
  },
  {
   "cell_type": "code",
   "execution_count": null,
   "id": "6854d991",
   "metadata": {},
   "outputs": [],
   "source": [
    "#MultinomialNB\n",
    "classifier = MultinomialNB(alpha=0.1)\n",
    "classifier.fit(X_train, y_train)\n",
    "y_pred = classifier.predict(X_test)\n",
    "\n",
    "cm = confusion_matrix(y_test, y_pred)\n",
    "print (\"Confusion Matrix:\\n\",cm)\n",
    "score1 = accuracy_score(y_test,y_pred)\n",
    "score2 = precision_score(y_test,y_pred)\n",
    "score3= recall_score(y_test,y_pred)\n",
    "print(\"\\n\")\n",
    "print(\"Accuracy is \",round(score1*100,2),\"%\")\n",
    "print(\"Precision is \",round(score2,2))\n",
    "print(\"Recall is \",round(score3,2))\n",
    "\n",
    "# Calculate F1 score\n",
    "precision = score2\n",
    "recall = score3\n",
    "\n",
    "# Avoid division by zero\n",
    "if precision + recall == 0:\n",
    "    f1_score = 0\n",
    "else:\n",
    "    f1_score = 2 * (precision * recall) / (precision + recall)\n",
    "\n",
    "print(\"F1 Score is \", round(f1_score, 2))\n",
    "\n",
    "\n",
    "modelDataNltk.append({\"model_name\": \"MultinomialNB\",\n",
    "               \"accuracy\": round(score1*100,2),\n",
    "               \"precision\": round(score2,2),\n",
    "               \"recall\": round(score3,2),\n",
    "               \"f1-score\":round(f1_score, 2)\n",
    "              })"
   ]
  },
  {
   "cell_type": "code",
   "execution_count": null,
   "id": "b05b526e",
   "metadata": {},
   "outputs": [],
   "source": [
    "#BernoulliNB\n",
    "classifier = BernoulliNB(alpha=0.1)\n",
    "classifier.fit(X_train, y_train)\n",
    "y_pred = classifier.predict(X_test)\n",
    "\n",
    "cm = confusion_matrix(y_test, y_pred)\n",
    "print (\"Confusion Matrix:\\n\",cm)\n",
    "score1 = accuracy_score(y_test,y_pred)\n",
    "score2 = precision_score(y_test,y_pred)\n",
    "score3= recall_score(y_test,y_pred)\n",
    "print(\"\\n\")\n",
    "print(\"Accuracy is \",round(score1*100,2),\"%\")\n",
    "print(\"Precision is \",round(score2,2))\n",
    "print(\"Recall is \",round(score3,2))\n",
    "\n",
    "# Calculate F1 score\n",
    "precision = score2\n",
    "recall = score3\n",
    "\n",
    "# Avoid division by zero\n",
    "if precision + recall == 0:\n",
    "    f1_score = 0\n",
    "else:\n",
    "    f1_score = 2 * (precision * recall) / (precision + recall)\n",
    "\n",
    "print(\"F1 Score is \", round(f1_score, 2))\n",
    "\n",
    "\n",
    "modelDataNltk.append({\"model_name\": \"BernoulliNB\",\n",
    "               \"accuracy\": round(score1*100,2),\n",
    "               \"precision\": round(score2,2),\n",
    "               \"recall\": round(score3,2),\n",
    "               \"f1-score\":round(f1_score, 2)\n",
    "              })"
   ]
  },
  {
   "cell_type": "code",
   "execution_count": null,
   "id": "514e440e",
   "metadata": {
    "scrolled": true
   },
   "outputs": [],
   "source": [
    "#LogisticRegression\n",
    "classifier = LogisticRegression()\n",
    "classifier.fit(X_train, y_train)\n",
    "\n",
    "y_pred = classifier.predict(X_test)\n",
    "cm = confusion_matrix(y_test, y_pred)\n",
    "print (\"Confusion Matrix:\\n\",cm)\n",
    "\n",
    "\n",
    "score1 = accuracy_score(y_test,y_pred)\n",
    "score2 = precision_score(y_test,y_pred)\n",
    "score3= recall_score(y_test,y_pred)\n",
    "print(\"\\n\")\n",
    "print(\"Accuracy is \",round(score1*100,2),\"%\")\n",
    "print(\"Precision is \",round(score2,2))\n",
    "print(\"Recall is \",round(score3,2))\n",
    "\n",
    "# Calculate F1 score\n",
    "precision = score2\n",
    "recall = score3\n",
    "\n",
    "# Avoid division by zero\n",
    "if precision + recall == 0:\n",
    "    f1_score = 0\n",
    "else:\n",
    "    f1_score = 2 * (precision * recall) / (precision + recall)\n",
    "\n",
    "print(\"F1 Score is \", round(f1_score, 2))\n",
    "\n",
    "\n",
    "modelDataNltk.append({\"model_name\": \"LogisticRegression\",\n",
    "               \"accuracy\": round(score1*100,2),\n",
    "               \"precision\": round(score2,2),\n",
    "               \"recall\": round(score3,2),\n",
    "               \"f1-score\":round(f1_score, 2)\n",
    "              })"
   ]
  },
  {
   "cell_type": "markdown",
   "id": "b232c09e",
   "metadata": {},
   "source": [
    "## ============================================="
   ]
  },
  {
   "cell_type": "code",
   "execution_count": null,
   "id": "d2e2c520",
   "metadata": {},
   "outputs": [],
   "source": [
    "modelDataSpacy = []"
   ]
  },
  {
   "cell_type": "code",
   "execution_count": null,
   "id": "9b6913fa",
   "metadata": {},
   "outputs": [],
   "source": [
    "#spacy\n",
    "cv = CountVectorizer()\n",
    "X = cv.fit_transform(corpus_spacy).toarray()\n",
    "y = ds.iloc[:,1].values"
   ]
  },
  {
   "cell_type": "code",
   "execution_count": null,
   "id": "8d4db6e8",
   "metadata": {},
   "outputs": [],
   "source": [
    "X,y"
   ]
  },
  {
   "cell_type": "code",
   "execution_count": null,
   "id": "4e3840f3",
   "metadata": {},
   "outputs": [],
   "source": [
    "# cv.get_feature_names()"
   ]
  },
  {
   "cell_type": "code",
   "execution_count": null,
   "id": "d8ace9e9",
   "metadata": {},
   "outputs": [],
   "source": [
    "# len(cv.get_feature_names())"
   ]
  },
  {
   "cell_type": "code",
   "execution_count": null,
   "id": "afd232d1",
   "metadata": {},
   "outputs": [],
   "source": [
    "X_train, X_test, y_train, y_test = train_test_split(X, y, test_size=0.20, random_state=42)"
   ]
  },
  {
   "cell_type": "code",
   "execution_count": null,
   "id": "90c8aace",
   "metadata": {},
   "outputs": [],
   "source": [
    "#MultinomialNB\n",
    "classifier = MultinomialNB(alpha=0.1)\n",
    "classifier.fit(X_train, y_train)\n",
    "y_pred = classifier.predict(X_test)\n",
    "\n",
    "cm = confusion_matrix(y_test, y_pred)\n",
    "print (\"Confusion Matrix:\\n\",cm)\n",
    "score1 = accuracy_score(y_test,y_pred)\n",
    "score2 = precision_score(y_test,y_pred)\n",
    "score3= recall_score(y_test,y_pred)\n",
    "print(\"\\n\")\n",
    "print(\"Accuracy is \",round(score1*100,2),\"%\")\n",
    "print(\"Precision is \",round(score2,2))\n",
    "print(\"Recall is \",round(score3,2))\n",
    "\n",
    "# Calculate F1 score\n",
    "precision = score2\n",
    "recall = score3\n",
    "\n",
    "# Avoid division by zero\n",
    "if precision + recall == 0:\n",
    "    f1_score = 0\n",
    "else:\n",
    "    f1_score = 2 * (precision * recall) / (precision + recall)\n",
    "\n",
    "print(\"F1 Score is \", round(f1_score, 2))\n",
    "\n",
    "\n",
    "modelDataSpacy.append({\"model_name\": \"MultinomialNB\",\n",
    "               \"accuracy\": round(score1*100,2),\n",
    "               \"precision\": round(score2,2),\n",
    "               \"recall\": round(score3,2),\n",
    "               \"f1-score\":round(f1_score, 2)\n",
    "              })"
   ]
  },
  {
   "cell_type": "code",
   "execution_count": null,
   "id": "3616f4e9",
   "metadata": {},
   "outputs": [],
   "source": [
    "#BernoulliNB\n",
    "classifier = BernoulliNB(alpha=0.1)\n",
    "classifier.fit(X_train, y_train)\n",
    "y_pred = classifier.predict(X_test)\n",
    "\n",
    "cm = confusion_matrix(y_test, y_pred)\n",
    "print (\"Confusion Matrix:\\n\",cm)\n",
    "score1 = accuracy_score(y_test,y_pred)\n",
    "score2 = precision_score(y_test,y_pred)\n",
    "score3= recall_score(y_test,y_pred)\n",
    "print(\"\\n\")\n",
    "print(\"Accuracy is \",round(score1*100,2),\"%\")\n",
    "print(\"Precision is \",round(score2,2))\n",
    "print(\"Recall is \",round(score3,2))\n",
    "\n",
    "# Calculate F1 score\n",
    "precision = score2\n",
    "recall = score3\n",
    "\n",
    "# Avoid division by zero\n",
    "if precision + recall == 0:\n",
    "    f1_score = 0\n",
    "else:\n",
    "    f1_score = 2 * (precision * recall) / (precision + recall)\n",
    "\n",
    "print(\"F1 Score is \", round(f1_score, 2))\n",
    "\n",
    "\n",
    "modelDataSpacy.append({\"model_name\": \"BernoulliNB\",\n",
    "               \"accuracy\": round(score1*100,2),\n",
    "               \"precision\": round(score2,2),\n",
    "               \"recall\": round(score3,2),\n",
    "               \"f1-score\":round(f1_score, 2)\n",
    "              })"
   ]
  },
  {
   "cell_type": "code",
   "execution_count": null,
   "id": "33932970",
   "metadata": {},
   "outputs": [],
   "source": [
    "#LogisticRegression\n",
    "classifier = LogisticRegression()\n",
    "classifier.fit(X_train, y_train)\n",
    "\n",
    "y_pred = classifier.predict(X_test)\n",
    "cm = confusion_matrix(y_test, y_pred)\n",
    "print (\"Confusion Matrix:\\n\",cm)\n",
    "\n",
    "score1 = accuracy_score(y_test,y_pred)\n",
    "score2 = precision_score(y_test,y_pred)\n",
    "score3= recall_score(y_test,y_pred)\n",
    "print(\"\\n\")\n",
    "print(\"Accuracy is \",round(score1*100,2),\"%\")\n",
    "print(\"Precision is \",round(score2,2))\n",
    "print(\"Recall is \",round(score3,2))\n",
    "\n",
    "# Calculate F1 score\n",
    "precision = score2\n",
    "recall = score3\n",
    "\n",
    "# Avoid division by zero\n",
    "if precision + recall == 0:\n",
    "    f1_score = 0\n",
    "else:\n",
    "    f1_score = 2 * (precision * recall) / (precision + recall)\n",
    "\n",
    "print(\"F1 Score is \", round(f1_score, 2))\n",
    "\n",
    "\n",
    "modelDataSpacy.append({\"model_name\": \"LogisticRegression\",\n",
    "               \"accuracy\": round(score1*100,2),\n",
    "               \"precision\": round(score2,2),\n",
    "               \"recall\": round(score3,2),\n",
    "               \"f1-score\":round(f1_score, 2)\n",
    "              })"
   ]
  },
  {
   "cell_type": "markdown",
   "id": "a93b6651",
   "metadata": {},
   "source": [
    "## ======================================================="
   ]
  },
  {
   "cell_type": "code",
   "execution_count": null,
   "id": "81a18a4f",
   "metadata": {},
   "outputs": [],
   "source": [
    "modelDataNltk"
   ]
  },
  {
   "cell_type": "code",
   "execution_count": null,
   "id": "c18f152a",
   "metadata": {},
   "outputs": [],
   "source": [
    "modelDataSpacy"
   ]
  },
  {
   "cell_type": "code",
   "execution_count": null,
   "id": "cbb56d37",
   "metadata": {},
   "outputs": [],
   "source": [
    "# modelDataNltk\n",
    "# Create a DataFrame\n",
    "modelDataNltkDF = pd.DataFrame(modelDataNltk)\n",
    "\n",
    "# Display the DataFrame\n",
    "modelDataNltkDF"
   ]
  },
  {
   "cell_type": "code",
   "execution_count": null,
   "id": "ef171c12",
   "metadata": {},
   "outputs": [],
   "source": [
    "# modelDataSpacy\n",
    "# Create a DataFrame\n",
    "modelDataSpacyDF = pd.DataFrame(modelDataSpacy)\n",
    "\n",
    "# Display the DataFrame\n",
    "modelDataNltkDF"
   ]
  },
  {
   "cell_type": "code",
   "execution_count": null,
   "id": "b7e23c86",
   "metadata": {},
   "outputs": [],
   "source": []
  },
  {
   "cell_type": "code",
   "execution_count": null,
   "id": "cb13b8cf",
   "metadata": {},
   "outputs": [],
   "source": [
    "# Flatten the data for easier handling\n",
    "flat_data = []\n",
    "for model_data in modelData:\n",
    "    for model_type, models in model_data.items():\n",
    "        for model in models:\n",
    "            flat_data.append({'model_type': model_type,**model})\n",
    "\n",
    "# Create a DataFrame\n",
    "modeldf = pd.DataFrame(flat_data)\n",
    "\n",
    "# Display the DataFrame\n",
    "modeldf"
   ]
  },
  {
   "cell_type": "code",
   "execution_count": null,
   "id": "72c366cf",
   "metadata": {},
   "outputs": [],
   "source": []
  },
  {
   "cell_type": "code",
   "execution_count": null,
   "id": "9207b5ee",
   "metadata": {},
   "outputs": [],
   "source": []
  },
  {
   "cell_type": "code",
   "execution_count": null,
   "id": "232f5b90",
   "metadata": {},
   "outputs": [],
   "source": []
  },
  {
   "cell_type": "code",
   "execution_count": null,
   "id": "aab99f0d",
   "metadata": {},
   "outputs": [],
   "source": []
  },
  {
   "cell_type": "code",
   "execution_count": null,
   "id": "257088b1",
   "metadata": {},
   "outputs": [],
   "source": []
  },
  {
   "cell_type": "code",
   "execution_count": null,
   "id": "0863438f",
   "metadata": {},
   "outputs": [],
   "source": []
  },
  {
   "cell_type": "code",
   "execution_count": null,
   "id": "ad3fff7f",
   "metadata": {},
   "outputs": [],
   "source": []
  },
  {
   "cell_type": "code",
   "execution_count": null,
   "id": "e4accf44",
   "metadata": {},
   "outputs": [],
   "source": []
  },
  {
   "cell_type": "code",
   "execution_count": null,
   "id": "414597a6",
   "metadata": {},
   "outputs": [],
   "source": []
  },
  {
   "cell_type": "code",
   "execution_count": null,
   "id": "05f6aa8d",
   "metadata": {},
   "outputs": [],
   "source": []
  },
  {
   "cell_type": "code",
   "execution_count": null,
   "id": "a16729f4",
   "metadata": {},
   "outputs": [],
   "source": []
  },
  {
   "cell_type": "code",
   "execution_count": null,
   "id": "9e166df6",
   "metadata": {},
   "outputs": [],
   "source": []
  },
  {
   "cell_type": "code",
   "execution_count": null,
   "id": "ef60822a",
   "metadata": {},
   "outputs": [],
   "source": []
  },
  {
   "cell_type": "code",
   "execution_count": null,
   "id": "cde91c4c",
   "metadata": {},
   "outputs": [],
   "source": []
  },
  {
   "cell_type": "code",
   "execution_count": null,
   "id": "7e97a4c3",
   "metadata": {},
   "outputs": [],
   "source": []
  },
  {
   "cell_type": "code",
   "execution_count": null,
   "id": "897c4cd1",
   "metadata": {},
   "outputs": [],
   "source": []
  },
  {
   "cell_type": "code",
   "execution_count": null,
   "id": "a38da379",
   "metadata": {},
   "outputs": [],
   "source": []
  },
  {
   "cell_type": "code",
   "execution_count": null,
   "id": "7d851477",
   "metadata": {},
   "outputs": [],
   "source": []
  },
  {
   "cell_type": "code",
   "execution_count": null,
   "id": "8027104d",
   "metadata": {},
   "outputs": [],
   "source": [
    "classifier.coef_"
   ]
  },
  {
   "cell_type": "code",
   "execution_count": null,
   "id": "7ac7ddc8",
   "metadata": {},
   "outputs": [],
   "source": [
    "classifier.classes_"
   ]
  },
  {
   "cell_type": "code",
   "execution_count": null,
   "id": "e2ea2b1b",
   "metadata": {},
   "outputs": [],
   "source": [
    "new_comment = ['Food was really good!','I am loving it','I hate waiting in this restaurant']\n",
    "new_trans = cv.transform(new_comment)\n",
    "classifier.predict(new_trans)"
   ]
  },
  {
   "cell_type": "code",
   "execution_count": null,
   "id": "5bf3ea66",
   "metadata": {},
   "outputs": [],
   "source": [
    "new_trans = cv.transform(new_comment)\n",
    "classifier.predict(new_trans)"
   ]
  },
  {
   "cell_type": "code",
   "execution_count": null,
   "id": "6d938eb9",
   "metadata": {},
   "outputs": [],
   "source": [
    "#nltk\n",
    "new_comment = ['Food was really good!','I am loving it','I hate waiting in this restaurant']\n",
    "test = []\n",
    "for i in new_comment:\n",
    "    review = re.sub('[^a-zA-z]',' ',i)\n",
    "    review = review.lower()\n",
    "    review = review.split()\n",
    "    ps = PorterStemmer()\n",
    "    stwords = stopwords.words('english')\n",
    "    stwords.remove(\"not\")\n",
    "    review = [ps.stem(word) for word in review if word not in stwords]\n",
    "    review = ' '.join(review)\n",
    "    test.append(review)\n",
    "print(test)"
   ]
  },
  {
   "cell_type": "code",
   "execution_count": null,
   "id": "cb2d000f",
   "metadata": {},
   "outputs": [],
   "source": [
    "new_trans = cv.transform(test)\n",
    "classifier.predict(new_trans)"
   ]
  },
  {
   "cell_type": "code",
   "execution_count": null,
   "id": "ed20b9b1",
   "metadata": {},
   "outputs": [],
   "source": [
    "#spacy\n",
    "test_spacy = []\n",
    "for i in new_comment:\n",
    "    review = re.sub('[^a-zA-z]',' ',i)\n",
    "    review = review.lower()\n",
    "    stwords = stopwords.words('english')\n",
    "    stwords.remove(\"not\")\n",
    "    review = eng(review)\n",
    "    review = [token.lemma_ for token in review if str(token) not in stwords]\n",
    "    review = ' '.join(review)\n",
    "    test_spacy.append(review)\n",
    "print(test_spacy)"
   ]
  },
  {
   "cell_type": "code",
   "execution_count": null,
   "id": "9a5612f9",
   "metadata": {},
   "outputs": [],
   "source": [
    "new_trans = cv.transform(test_spacy)\n",
    "classifier.predict(new_trans)"
   ]
  },
  {
   "cell_type": "code",
   "execution_count": null,
   "id": "2155f6a1",
   "metadata": {},
   "outputs": [],
   "source": []
  }
 ],
 "metadata": {
  "kernelspec": {
   "display_name": "Python 3 (ipykernel)",
   "language": "python",
   "name": "python3"
  },
  "language_info": {
   "codemirror_mode": {
    "name": "ipython",
    "version": 3
   },
   "file_extension": ".py",
   "mimetype": "text/x-python",
   "name": "python",
   "nbconvert_exporter": "python",
   "pygments_lexer": "ipython3",
   "version": "3.11.5"
  }
 },
 "nbformat": 4,
 "nbformat_minor": 5
}
