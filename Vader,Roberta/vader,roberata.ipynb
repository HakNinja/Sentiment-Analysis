{
 "cells": [
  {
   "cell_type": "code",
   "execution_count": 3,
   "id": "67945e98",
   "metadata": {},
   "outputs": [
    {
     "ename": "ModuleNotFoundError",
     "evalue": "No module named 'vaderSentiment.vaderLexicon'",
     "output_type": "error",
     "traceback": [
      "\u001b[0;31m---------------------------------------------------------------------------\u001b[0m",
      "\u001b[0;31mModuleNotFoundError\u001b[0m                       Traceback (most recent call last)",
      "Cell \u001b[0;32mIn[3], line 2\u001b[0m\n\u001b[1;32m      1\u001b[0m \u001b[38;5;28;01mimport\u001b[39;00m \u001b[38;5;21;01mpandas\u001b[39;00m \u001b[38;5;28;01mas\u001b[39;00m \u001b[38;5;21;01mpd\u001b[39;00m\n\u001b[0;32m----> 2\u001b[0m \u001b[38;5;28;01mfrom\u001b[39;00m \u001b[38;5;21;01mvaderSentiment\u001b[39;00m\u001b[38;5;21;01m.\u001b[39;00m\u001b[38;5;21;01mvaderLexicon\u001b[39;00m \u001b[38;5;28;01mimport\u001b[39;00m Vader\n\u001b[1;32m      3\u001b[0m \u001b[38;5;28;01mfrom\u001b[39;00m \u001b[38;5;21;01mtransformers\u001b[39;00m \u001b[38;5;28;01mimport\u001b[39;00m AutoTokenizer, TFAutoModelForSequenceClassification\n\u001b[1;32m      5\u001b[0m \u001b[38;5;66;03m# Define paths\u001b[39;00m\n",
      "\u001b[0;31mModuleNotFoundError\u001b[0m: No module named 'vaderSentiment.vaderLexicon'"
     ]
    }
   ],
   "source": [
    "import pandas as pd\n",
    "from vaderSentiment.vaderLexicon import Vader\n",
    "from transformers import AutoTokenizer, TFAutoModelForSequenceClassification\n",
    "\n",
    "# Define paths\n",
    "data_path = \"Restaurant_Reviews.tsv\"\n",
    "roberta_model_name = \"cardiffnlp/roberta-base-finetuned-sst-2-english\"\n",
    "\n",
    "# Load data\n",
    "df = pd.read_csv(data_path)\n",
    "reviews = df[\"Review\"]\n",
    "liked = df[\"Liked\"]\n",
    "\n",
    "# Initialize Vader\n",
    "vader_model = Vader()\n",
    "\n",
    "# Initialize RoBERTa\n",
    "roberta_tokenizer = AutoTokenizer.from_pretrained(roberta_model_name)\n",
    "roberta_model = TFAutoModelForSequenceClassification.from_pretrained(roberta_model_name)\n",
    "\n",
    "# Analyze sentiment with Vader and RoBERTa\n",
    "vader_scores = []\n",
    "roberta_scores = []\n",
    "for review in reviews:\n",
    "    vader_score = vader_model.polarity_scores(review)\n",
    "    roberta_encoded_inputs = roberta_tokenizer(review, return_tensors=\"tf\")\n",
    "    roberta_output = roberta_model(**roberta_encoded_inputs)\n",
    "    roberta_score = tf.nn.softmax(roberta_output.logits[0]).numpy()[1]\n",
    "    vader_scores.append(vader_score)\n",
    "    roberta_scores.append(roberta_score)\n",
    "\n",
    "# Calculate accuracy for both models (assuming \"Liked\" is the target variable)\n",
    "vader_accuracy = sum(liked == (vader_score[\"compound\"] > 0)) / len(liked)\n",
    "roberta_accuracy = sum(liked == (roberta_score > 0.5)) / len(liked)\n",
    "\n",
    "# Print results\n",
    "print(\"Vader Accuracy:\", vader_accuracy)\n",
    "print(\"RoBERTa Accuracy:\", roberta_accuracy)\n",
    "\n",
    "# (Optional) Analyze individual reviews and scores\n",
    "for review, liked, vader_score, roberta_score in zip(reviews, liked, vader_scores, roberta_scores):\n",
    "    print(f\"Review: {review}\")\n",
    "    print(f\"Liked: {liked}\")\n",
    "    print(f\"Vader Score: {vader_score}\")\n",
    "    print(f\"RoBERTa Score: {roberta_score}\")\n",
    "    print(\"---\")\n"
   ]
  }
 ],
 "metadata": {
  "kernelspec": {
   "display_name": "Python 3 (ipykernel)",
   "language": "python",
   "name": "python3"
  },
  "language_info": {
   "codemirror_mode": {
    "name": "ipython",
    "version": 3
   },
   "file_extension": ".py",
   "mimetype": "text/x-python",
   "name": "python",
   "nbconvert_exporter": "python",
   "pygments_lexer": "ipython3",
   "version": "3.11.5"
  }
 },
 "nbformat": 4,
 "nbformat_minor": 5
}
